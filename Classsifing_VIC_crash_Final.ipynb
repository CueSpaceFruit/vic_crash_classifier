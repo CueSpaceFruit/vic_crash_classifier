{
  "cells": [
    {
      "cell_type": "markdown",
      "metadata": {
        "id": "view-in-github",
        "colab_type": "text"
      },
      "source": [
        "<a href=\"https://colab.research.google.com/github/CueSpaceFruit/vic_crash_classifier/blob/main/Classsifing_VIC_crash_Final.ipynb\" target=\"_parent\"><img src=\"https://colab.research.google.com/assets/colab-badge.svg\" alt=\"Open In Colab\"/></a>"
      ]
    },
    {
      "cell_type": "markdown",
      "metadata": {
        "id": "wQGvT0qtRdSx"
      },
      "source": [
        "# Processing of Big Data\n",
        "# Machine Learning Pipeline\n",
        "\n",
        "## Predicting Traffic Accident Severity Through Machine Learning on Victorian Accident Data\n",
        "\n",
        "The original data has been downloaded from the Victorian Government on Traffic Accidents between 2006 and 2020\n",
        "Link  https://discover.data.vic.gov.au/dataset/crash-stats-data-extract\n",
        "\n",
        "The wrangled dataset can be found in following link\n",
        "\n",
        "/content/drive/MyDrive/Colab Notebooks/AccidentFinal.csv\n",
        "\n",
        "This wrangled dataset constitutes the starting point for the jupyter notebook application\n",
        "\n"
      ]
    },
    {
      "cell_type": "code",
      "source": [
        "from google.colab import drive\n",
        "drive.mount('/content/drive')"
      ],
      "metadata": {
        "colab": {
          "base_uri": "https://localhost:8080/"
        },
        "id": "Z3B8Nb9zUitb",
        "outputId": "99805b7e-c712-4823-e3a6-5bbdc16fe062"
      },
      "execution_count": null,
      "outputs": [
        {
          "output_type": "stream",
          "name": "stdout",
          "text": [
            "Mounted at /content/drive\n"
          ]
        }
      ]
    },
    {
      "cell_type": "markdown",
      "metadata": {
        "id": "vZVe3moQRdSz"
      },
      "source": [
        "### Create the Spark Session"
      ]
    },
    {
      "cell_type": "code",
      "execution_count": null,
      "metadata": {
        "id": "4fLDPpYVRdS0",
        "outputId": "14b75933-55c7-4295-8a62-43b2da6a28c5"
      },
      "outputs": [
        {
          "data": {
            "text/plain": [
              "'http://10.0.2.15:4040'"
            ]
          },
          "execution_count": 1,
          "metadata": {},
          "output_type": "execute_result"
        }
      ],
      "source": [
        "# Import SparkConf class into program\n",
        "from pyspark import SparkConf\n",
        "\n",
        "# local[*]: run Spark in local mode with as many working processors as logical cores on your machine\n",
        "# If we want Spark to run locally with 'k' worker threads, we can specify as \"local[k]\".\n",
        "master = \"local[*]\"\n",
        "# The `appName` field is a name to be shown on the Spark cluster UI page\n",
        "app_name = \"Phase 3\"\n",
        "# Setup configuration parameters for Spark\n",
        "spark_conf = SparkConf().setMaster(master).setAppName(app_name)\n",
        "\n",
        "# Import SparkContext and SparkSession classes\n",
        "from pyspark     import SparkContext # Spark\n",
        "from pyspark.sql import SparkSession # Spark SQL\n",
        "\n",
        "# Method 1: Using SparkSession\n",
        "spark = SparkSession.builder.config(conf=spark_conf).getOrCreate()\n",
        "sc = spark.sparkContext\n",
        "sc.setLogLevel('ERROR')\n",
        "\n",
        "# # Method 2: Getting or instantiating a SparkContext\n",
        "# sc = SparkContext.getOrCreate(spark_conf)\n",
        "# sc.setLogLevel('ERROR')\n",
        "\n",
        "## Display our Spark Context Information\n",
        "sc.uiWebUrl"
      ]
    },
    {
      "cell_type": "markdown",
      "metadata": {
        "id": "2ZIsFCnARdS2"
      },
      "source": [
        "### Load Libraries"
      ]
    },
    {
      "cell_type": "code",
      "execution_count": null,
      "metadata": {
        "id": "5yPqgLKsRdS2"
      },
      "outputs": [],
      "source": [
        "from pyspark.ml.feature import StringIndexer\n",
        "from pyspark.ml.feature import OneHotEncoder\n",
        "from pyspark.ml.feature import VectorAssembler\n",
        "from pyspark.ml         import Pipeline\n",
        "\n",
        "from pyspark.ml.classification import LogisticRegression\n",
        "from pyspark.ml.classification import RandomForestClassifier\n",
        "from pyspark.ml.classification import DecisionTreeClassifier\n",
        "from pyspark.ml.classification import NaiveBayes\n",
        "\n",
        "from pyspark.sql           import functions as F\n",
        "from pyspark.sql.functions import udf\n",
        "from pyspark.sql.types     import NumericType\n",
        "import numpy as np\n",
        "import matplotlib.pyplot as plt"
      ]
    },
    {
      "cell_type": "markdown",
      "metadata": {
        "id": "Elw0U9ulRdS2"
      },
      "source": [
        "### Load Data from Phase 2"
      ]
    },
    {
      "cell_type": "code",
      "execution_count": null,
      "metadata": {
        "id": "gIxo_AKYRdS2"
      },
      "outputs": [],
      "source": [
        "# Read in the accident data as dataframe\n",
        "AccidentFinal = spark.read.format('csv')\\\n",
        "                     .option('header',True)\\\n",
        "                     .option('escape','\"')\\\n",
        "                     .option('inferSchema',True)\\\n",
        "                     .load('AccidentFinal.csv')"
      ]
    },
    {
      "cell_type": "code",
      "execution_count": null,
      "metadata": {
        "id": "WZUowNgPRdS3",
        "outputId": "47d99919-99f0-4ff4-fb88-29e01fcbba5a"
      },
      "outputs": [
        {
          "name": "stdout",
          "output_type": "stream",
          "text": [
            "root\n",
            " |-- accidentDate: string (nullable = true)\n",
            " |-- accidentTime: string (nullable = true)\n",
            " |-- accidentTypeDesc: string (nullable = true)\n",
            " |-- dayOfWeekDesc: string (nullable = true)\n",
            " |-- DCACode: integer (nullable = true)\n",
            " |-- DCADescription: string (nullable = true)\n",
            " |-- lightConditionDesc: string (nullable = true)\n",
            " |-- numVehicles: integer (nullable = true)\n",
            " |-- numPersons: integer (nullable = true)\n",
            " |-- numPersonsInj2: integer (nullable = true)\n",
            " |-- numPersonsInj3: integer (nullable = true)\n",
            " |-- numPersonsKilled: integer (nullable = true)\n",
            " |-- numPersonsNotInj: integer (nullable = true)\n",
            " |-- roadGeometryDesc: string (nullable = true)\n",
            " |-- accidentSeverity: integer (nullable = true)\n",
            " |-- speedZone: integer (nullable = true)\n",
            " |-- accidentDateOnly: string (nullable = true)\n",
            " |-- accidentTimeOnly: string (nullable = true)\n",
            " |-- accidentDateTime: string (nullable = true)\n",
            " |-- accidentSeverityDesc: string (nullable = true)\n",
            " |-- speedZoneDesc: string (nullable = true)\n",
            " |-- eventTypeDesc: string (nullable = true)\n",
            " |-- dust: double (nullable = true)\n",
            " |-- fog: double (nullable = true)\n",
            " |-- raining: double (nullable = true)\n",
            " |-- smoke: double (nullable = true)\n",
            " |-- snowing: double (nullable = true)\n",
            " |-- strongWinds: double (nullable = true)\n",
            " |-- icy: double (nullable = true)\n",
            " |-- muddy: double (nullable = true)\n",
            " |-- snowy: double (nullable = true)\n",
            " |-- wet: double (nullable = true)\n",
            " |-- dry: double (nullable = true)\n",
            " |-- clear: double (nullable = true)\n",
            " |-- vehicleYearManuf: double (nullable = true)\n",
            " |-- roadSurfaceType: integer (nullable = true)\n",
            " |-- roadSurfaceTypeDesc: string (nullable = true)\n",
            " |-- vehicleType: integer (nullable = true)\n",
            " |-- vehicleTypeDesc: string (nullable = true)\n",
            " |-- fuelType: string (nullable = true)\n",
            " |-- totalNoOccupants: double (nullable = true)\n",
            " |-- vehicleMovement: string (nullable = true)\n",
            " |-- levelOfDamage: integer (nullable = true)\n",
            " |-- trafficControl: integer (nullable = true)\n",
            " |-- trafficControlDesc: string (nullable = true)\n",
            " |-- driverSex: string (nullable = true)\n",
            " |-- driverAge: double (nullable = true)\n",
            " |-- driverAgeGroup: string (nullable = true)\n",
            " |-- maxInjuryLevel: string (nullable = true)\n",
            " |-- isPedestrian: integer (nullable = true)\n",
            " |-- LGAName: string (nullable = true)\n",
            " |-- regionName: string (nullable = true)\n",
            " |-- postCode: integer (nullable = true)\n",
            " |-- nodeTypeDesc: string (nullable = true)\n",
            "\n"
          ]
        }
      ],
      "source": [
        "# Print the Schema\n",
        "AccidentFinal.printSchema()"
      ]
    },
    {
      "cell_type": "code",
      "execution_count": null,
      "metadata": {
        "scrolled": true,
        "id": "lWSsW3jbRdS3",
        "outputId": "e3ac8203-4f66-468c-e452-ce2993ca8db6"
      },
      "outputs": [
        {
          "name": "stdout",
          "output_type": "stream",
          "text": [
            "(775126, 54)\n"
          ]
        }
      ],
      "source": [
        "#Check the shape of the dataframe\n",
        "print((AccidentFinal.count(), len(AccidentFinal.columns)))"
      ]
    },
    {
      "cell_type": "markdown",
      "metadata": {
        "scrolled": true,
        "id": "B37r9NkbRdS3"
      },
      "source": [
        "There are 775126 rows and 54 columns"
      ]
    },
    {
      "cell_type": "code",
      "execution_count": null,
      "metadata": {
        "id": "XX1UoV1TRdS3"
      },
      "outputs": [],
      "source": [
        "#Remove rows with Null value\n",
        "AccidentFinal = AccidentFinal.na.drop()"
      ]
    },
    {
      "cell_type": "markdown",
      "metadata": {
        "id": "b6__Nag7RdS3"
      },
      "source": [
        "### Add a binary label to classify severity rate\n",
        "\n",
        "Based on the Data Dictionary Class 1 and 2 are Fatal and Severe Accidents.  We are going to use severity rate as our target variable."
      ]
    },
    {
      "cell_type": "code",
      "execution_count": null,
      "metadata": {
        "id": "NhNUd4CnRdS4"
      },
      "outputs": [],
      "source": [
        "# Transform target variable into binary form. 1 if there was a severe accident, 0 if not\n",
        "\n",
        "# Create function to convert target variable\n",
        "y_udf = udf(lambda y: 1 if y == '1' or y == '2' else 0)\n",
        "\n",
        "# Apply user defined function and drop old column\n",
        "AccidentFinal = AccidentFinal.withColumn('severeAccident', y_udf('maxInjuryLevel')).drop('maxInjuryLevel')"
      ]
    },
    {
      "cell_type": "markdown",
      "metadata": {
        "id": "7VO600mBRdS4"
      },
      "source": [
        "There are some columns that are unlikely to contribute to the model. We are looking for variables that do not describe the events of the accident specifically as they cannot be changed and also will not be independent. We also want to drop variables that are related to each other. These were the columns that were dropped:\n",
        "* DCA Code - this aligns with the accident type description so can be dropped\n",
        "* DCA Description - this contains similar info to accident type description so can be dropped\n",
        "* Number of persons injured/killed - this contains the similar information as 'max injury level' where we have tracked the most severe accident level relative to a certain accident\n",
        "* Number of vehicles - since this variable only occurs at the accident, it is not relevant in prediction\n",
        "* Driver age - we will use age groups instead\n",
        "* Number of occupants - not relevant to analysis and hard to compare across vehicles of different sizes\n",
        "* Vehicle movement - also another variable that is only relevant when accident occurs, hence not relevant for prediction\n",
        "* Fuel type - assume that this does not play a large part in accidents\n",
        "* Node type description and road geometry description are similar, so we will drop node type desc.\n",
        "* Level of damage - only relevant after accident occurs, not relevant for our model\n",
        "* Postcode, Region - we can use Local Goverment Area (LGA) name to get location information."
      ]
    },
    {
      "cell_type": "code",
      "execution_count": null,
      "metadata": {
        "id": "DmOQLnf6RdS4"
      },
      "outputs": [],
      "source": [
        "## Dropping Columns that are unlikely to contribute to the model\n",
        "AccidentFinal = AccidentFinal.drop('accidentDate','accidentTime', 'DCACode', 'numVehicles',\n",
        "                                   'numPersons','numPersonsInj2', 'numPersonsInj3', \"speedZone\",\n",
        "                                   'numPersonsKilled', 'numPersonsNotInj', 'accidentDateOnly', 'accidentTimeOnly',\n",
        "                                   'accidentDateTime', 'roadSurfaceType', 'driverAge', 'trafficControl', 'vehicleType',\n",
        "                                   'fuelType','traffic Control','regionName','postCode','nodeTypeDesc',\n",
        "                                   'accidentSeverityDesc', 'accidentSeverity', 'totalNoOccupants', 'DCADescription',\n",
        "                                  'isPedestrian', 'vehicleMovement', 'eventTypeDesc', 'accidentTypeDesc',\n",
        "                                   'levelOfDamage',\n",
        "                                  )"
      ]
    },
    {
      "cell_type": "code",
      "execution_count": null,
      "metadata": {
        "id": "4TeE3SMTRdS4",
        "outputId": "27e219c3-9a2c-412b-cf63-16d3cb6d4149"
      },
      "outputs": [
        {
          "name": "stdout",
          "output_type": "stream",
          "text": [
            "root\n",
            " |-- dayOfWeekDesc: string (nullable = true)\n",
            " |-- lightConditionDesc: string (nullable = true)\n",
            " |-- roadGeometryDesc: string (nullable = true)\n",
            " |-- speedZoneDesc: string (nullable = true)\n",
            " |-- dust: double (nullable = true)\n",
            " |-- fog: double (nullable = true)\n",
            " |-- raining: double (nullable = true)\n",
            " |-- smoke: double (nullable = true)\n",
            " |-- snowing: double (nullable = true)\n",
            " |-- strongWinds: double (nullable = true)\n",
            " |-- icy: double (nullable = true)\n",
            " |-- muddy: double (nullable = true)\n",
            " |-- snowy: double (nullable = true)\n",
            " |-- wet: double (nullable = true)\n",
            " |-- dry: double (nullable = true)\n",
            " |-- clear: double (nullable = true)\n",
            " |-- vehicleYearManuf: double (nullable = true)\n",
            " |-- roadSurfaceTypeDesc: string (nullable = true)\n",
            " |-- vehicleTypeDesc: string (nullable = true)\n",
            " |-- trafficControlDesc: string (nullable = true)\n",
            " |-- driverSex: string (nullable = true)\n",
            " |-- driverAgeGroup: string (nullable = true)\n",
            " |-- LGAName: string (nullable = true)\n",
            " |-- severeAccident: string (nullable = true)\n",
            "\n",
            "-RECORD 0-----------------------------------\n",
            " dayOfWeekDesc       | Monday               \n",
            " lightConditionDesc  | Day                  \n",
            " roadGeometryDesc    | Not at intersection  \n",
            " speedZoneDesc       | 100 km/h             \n",
            " dust                | 0.0                  \n",
            " fog                 | 0.0                  \n",
            " raining             | 0.0                  \n",
            " smoke               | 0.0                  \n",
            " snowing             | 0.0                  \n",
            " strongWinds         | 0.0                  \n",
            " icy                 | 0.0                  \n",
            " muddy               | 0.0                  \n",
            " snowy               | 0.0                  \n",
            " wet                 | 0.0                  \n",
            " dry                 | 1.0                  \n",
            " clear               | 1.0                  \n",
            " vehicleYearManuf    | 2004.0               \n",
            " roadSurfaceTypeDesc | Paved                \n",
            " vehicleTypeDesc     | Prime Mover (No o... \n",
            " trafficControlDesc  | No control           \n",
            " driverSex           | M                    \n",
            " driverAgeGroup      | 40-49                \n",
            " LGAName             | EAST GIPPSLAND       \n",
            " severeAccident      | 0                    \n",
            "only showing top 1 row\n",
            "\n"
          ]
        }
      ],
      "source": [
        "#Print the schema with selected columns\n",
        "AccidentFinal.printSchema()\n",
        "AccidentFinal.show(1, vertical = True)"
      ]
    },
    {
      "cell_type": "code",
      "execution_count": null,
      "metadata": {
        "id": "RvmIe6sMRdS4",
        "outputId": "33425d2f-c03b-4f0b-b718-058184f9c898"
      },
      "outputs": [
        {
          "name": "stdout",
          "output_type": "stream",
          "text": [
            "(690805, 24)\n"
          ]
        }
      ],
      "source": [
        "#Check the shape of the dataframe\n",
        "print((AccidentFinal.count(), len(AccidentFinal.columns)))"
      ]
    },
    {
      "cell_type": "code",
      "execution_count": null,
      "metadata": {
        "scrolled": false,
        "id": "beXJGgqGRdS5",
        "outputId": "e2611962-cd3b-461b-a7c0-a07aa1c82158"
      },
      "outputs": [
        {
          "name": "stdout",
          "output_type": "stream",
          "text": [
            "+--------------+------+\n",
            "|severeAccident| count|\n",
            "+--------------+------+\n",
            "|             0|577416|\n",
            "|             1|113389|\n",
            "+--------------+------+\n",
            "\n"
          ]
        }
      ],
      "source": [
        "# Check the split of labels\n",
        "AccidentFinal.groupBy('severeAccident').count().show()"
      ]
    },
    {
      "cell_type": "code",
      "execution_count": null,
      "metadata": {
        "id": "DWbw8FwiRdS5"
      },
      "outputs": [],
      "source": [
        "# Sample the data such that our Severe and Non-Sever Accidents are similar sizes\n",
        "\n",
        "sample_1 , sample_2 = AccidentFinal.filter(AccidentFinal.severeAccident == '0').randomSplit([0.8, 0.2], seed = 42)"
      ]
    },
    {
      "cell_type": "code",
      "execution_count": null,
      "metadata": {
        "id": "4sOfPddqRdS5"
      },
      "outputs": [],
      "source": [
        "# Union the two dataframes back together to create one dataset\n",
        "AccidentFinal = AccidentFinal.filter(AccidentFinal.severeAccident == '1')\n",
        "AccidentFinal = AccidentFinal.union(sample_2)"
      ]
    },
    {
      "cell_type": "code",
      "execution_count": null,
      "metadata": {
        "id": "bvn8elbwRdS5",
        "outputId": "df3f77c4-db14-408c-eec8-901309799e6a"
      },
      "outputs": [
        {
          "data": {
            "text/plain": [
              "229131"
            ]
          },
          "execution_count": 14,
          "metadata": {},
          "output_type": "execute_result"
        }
      ],
      "source": [
        "# Records in final dataframe\n",
        "AccidentFinal.count()"
      ]
    },
    {
      "cell_type": "markdown",
      "metadata": {
        "id": "MZAgpQiKRdS5"
      },
      "source": [
        "# Feature Engineering"
      ]
    },
    {
      "cell_type": "code",
      "execution_count": null,
      "metadata": {
        "scrolled": true,
        "id": "3K2m0DRnRdS5",
        "outputId": "f6cbc239-932b-4fde-fc26-e5f54595fcf0"
      },
      "outputs": [
        {
          "name": "stdout",
          "output_type": "stream",
          "text": [
            "root\n",
            " |-- dayOfWeekDesc: string (nullable = true)\n",
            " |-- lightConditionDesc: string (nullable = true)\n",
            " |-- roadGeometryDesc: string (nullable = true)\n",
            " |-- speedZoneDesc: string (nullable = true)\n",
            " |-- dust: double (nullable = true)\n",
            " |-- fog: double (nullable = true)\n",
            " |-- raining: double (nullable = true)\n",
            " |-- smoke: double (nullable = true)\n",
            " |-- snowing: double (nullable = true)\n",
            " |-- strongWinds: double (nullable = true)\n",
            " |-- icy: double (nullable = true)\n",
            " |-- muddy: double (nullable = true)\n",
            " |-- snowy: double (nullable = true)\n",
            " |-- wet: double (nullable = true)\n",
            " |-- dry: double (nullable = true)\n",
            " |-- clear: double (nullable = true)\n",
            " |-- vehicleYearManuf: double (nullable = true)\n",
            " |-- roadSurfaceTypeDesc: string (nullable = true)\n",
            " |-- vehicleTypeDesc: string (nullable = true)\n",
            " |-- trafficControlDesc: string (nullable = true)\n",
            " |-- driverSex: string (nullable = true)\n",
            " |-- driverAgeGroup: string (nullable = true)\n",
            " |-- LGAName: string (nullable = true)\n",
            " |-- severeAccident: string (nullable = true)\n",
            "\n"
          ]
        }
      ],
      "source": [
        "AccidentFinal.printSchema()"
      ]
    },
    {
      "cell_type": "code",
      "execution_count": null,
      "metadata": {
        "id": "gWX4CXI6RdS5"
      },
      "outputs": [],
      "source": [
        "# Change data type as the variables below are Double wheen they should actaully be interger values\n",
        "\n",
        "AccidentFinal = AccidentFinal.withColumn (\"dust\", AccidentFinal.dust.cast(\"Int\"))\\\n",
        "                             .withColumn (\"fog\", AccidentFinal.fog.cast(\"Int\") )\\\n",
        "                             .withColumn (\"raining\", AccidentFinal.raining.cast(\"Int\") )\\\n",
        "                             .withColumn (\"smoke\", AccidentFinal.smoke.cast(\"Int\") )\\\n",
        "                             .withColumn (\"snowing\", AccidentFinal.snowing.cast(\"Int\") )\\\n",
        "                             .withColumn (\"strongWinds\", AccidentFinal. strongWinds.cast(\"Int\") ) \\\n",
        "                             .withColumn (\"icy\", AccidentFinal.icy.cast(\"Int\") )\\\n",
        "                             .withColumn (\"muddy\", AccidentFinal.muddy.cast(\"Int\") )\\\n",
        "                             .withColumn (\"snowy\", AccidentFinal.snowy.cast(\"Int\") )  \\\n",
        "                             .withColumn (\"wet\", AccidentFinal.wet.cast(\"Int\") )\\\n",
        "                             .withColumn (\"dry\", AccidentFinal.dry.cast(\"Int\") ) \\\n",
        "                             .withColumn (\"clear\", AccidentFinal.clear.cast(\"Int\") )\\\n",
        "                             .withColumn (\"vehicleYearManuf\", AccidentFinal.vehicleYearManuf.cast(\"Int\") )\\\n",
        "                             .withColumn (\"severeAccident\", AccidentFinal.severeAccident.cast(\"Int\"))\\\n",
        "                             .cache()"
      ]
    },
    {
      "cell_type": "code",
      "execution_count": null,
      "metadata": {
        "id": "ZuY2iXgARdS6"
      },
      "outputs": [],
      "source": [
        "# First, save the category in the category columns list.\n",
        "# Split categorical and numeric variables. Make sure our target variable is not included in the listing\n",
        "\n",
        "categoryInputCols   = [item[0] for item in AccidentFinal.dtypes if     item[1].startswith('string') and item[0] != 'severeAccident']\n",
        "numericalInputCols  = [item[0] for item in AccidentFinal.dtypes if not item[1].startswith('string') and item[0] != 'severeAccident']\n",
        "outputCol           = 'severeAccident'\n",
        "categoryCols        = categoryInputCols + [outputCol]"
      ]
    },
    {
      "cell_type": "code",
      "execution_count": null,
      "metadata": {
        "id": "WiJ_VnBRRdS6",
        "outputId": "7d964d59-4fae-4b15-82c6-b6908b692911"
      },
      "outputs": [
        {
          "name": "stdout",
          "output_type": "stream",
          "text": [
            "['dayOfWeekDesc', 'lightConditionDesc', 'roadGeometryDesc', 'speedZoneDesc', 'roadSurfaceTypeDesc', 'vehicleTypeDesc', 'trafficControlDesc', 'driverSex', 'driverAgeGroup', 'LGAName', 'severeAccident']\n",
            "['dayOfWeekDesc_index', 'lightConditionDesc_index', 'roadGeometryDesc_index', 'speedZoneDesc_index', 'roadSurfaceTypeDesc_index', 'vehicleTypeDesc_index', 'trafficControlDesc_index', 'driverSex_index', 'driverAgeGroup_index', 'LGAName_index', 'label']\n",
            "['dust', 'fog', 'raining', 'smoke', 'snowing', 'strongWinds', 'icy', 'muddy', 'snowy', 'wet', 'dry', 'clear', 'vehicleYearManuf']\n"
          ]
        }
      ],
      "source": [
        "### Convert categorical columns\n",
        "from pyspark.ml.feature import StringIndexer\n",
        "\n",
        "# Define the output columns\n",
        "outputCols = [f'{x}_index' for x in categoryInputCols]\n",
        "outputCols.append('label')\n",
        "\n",
        "# View input and output column names\n",
        "print(categoryCols)\n",
        "print(outputCols)\n",
        "print(numericalInputCols)\n"
      ]
    },
    {
      "cell_type": "code",
      "execution_count": null,
      "metadata": {
        "id": "2XI77nlWRdS6",
        "outputId": "00fd02b2-6c9c-40c2-ccba-8e87b6c7567a"
      },
      "outputs": [
        {
          "name": "stdout",
          "output_type": "stream",
          "text": [
            "+-------------------+------------------------+----------------------+-------------------+-------------------------+---------------------+------------------------+---------------+--------------------+-------------+-----+\n",
            "|dayOfWeekDesc_index|lightConditionDesc_index|roadGeometryDesc_index|speedZoneDesc_index|roadSurfaceTypeDesc_index|vehicleTypeDesc_index|trafficControlDesc_index|driverSex_index|driverAgeGroup_index|LGAName_index|label|\n",
            "+-------------------+------------------------+----------------------+-------------------+-------------------------+---------------------+------------------------+---------------+--------------------+-------------+-----+\n",
            "|                5.0|                     0.0|                   1.0|                1.0|                      0.0|                  1.0|                     0.0|            0.0|                 1.0|         14.0|  1.0|\n",
            "|                5.0|                     0.0|                   1.0|                1.0|                      0.0|                  1.0|                     0.0|            0.0|                 1.0|         14.0|  1.0|\n",
            "|                0.0|                     1.0|                   0.0|                1.0|                      2.0|                  0.0|                     1.0|            0.0|                 3.0|          2.0|  1.0|\n",
            "|                0.0|                     1.0|                   0.0|                1.0|                      2.0|                  0.0|                     1.0|            0.0|                 3.0|          2.0|  1.0|\n",
            "|                1.0|                     0.0|                   2.0|                1.0|                      0.0|                  0.0|                     2.0|            0.0|                 3.0|         14.0|  1.0|\n",
            "|                1.0|                     0.0|                   2.0|                1.0|                      0.0|                  0.0|                     2.0|            0.0|                 3.0|         14.0|  1.0|\n",
            "|                1.0|                     0.0|                   2.0|                1.0|                      0.0|                  0.0|                     2.0|            0.0|                 3.0|         14.0|  1.0|\n",
            "|                6.0|                     0.0|                   1.0|                0.0|                      0.0|                  0.0|                     2.0|            1.0|                 4.0|         22.0|  1.0|\n",
            "|                6.0|                     0.0|                   1.0|                0.0|                      0.0|                  0.0|                     2.0|            1.0|                 4.0|         22.0|  1.0|\n",
            "|                3.0|                     2.0|                   0.0|                0.0|                      1.0|                  2.0|                     0.0|            0.0|                 0.0|          9.0|  1.0|\n",
            "|                0.0|                     0.0|                   1.0|                1.0|                      0.0|                  0.0|                     1.0|            1.0|                 7.0|          7.0|  1.0|\n",
            "|                2.0|                     0.0|                   0.0|                2.0|                      0.0|                  0.0|                     0.0|            0.0|                 7.0|         10.0|  1.0|\n",
            "|                2.0|                     0.0|                   0.0|                2.0|                      0.0|                  0.0|                     0.0|            0.0|                 7.0|         10.0|  1.0|\n",
            "|                5.0|                     1.0|                   1.0|                3.0|                      0.0|                  0.0|                     4.0|            1.0|                 3.0|          2.0|  1.0|\n",
            "|                5.0|                     1.0|                   1.0|                3.0|                      0.0|                  0.0|                     4.0|            1.0|                 3.0|          2.0|  1.0|\n",
            "|                5.0|                     1.0|                   1.0|                3.0|                      0.0|                  0.0|                     4.0|            1.0|                 3.0|          2.0|  1.0|\n",
            "|                1.0|                     0.0|                   0.0|                8.0|                      0.0|                  0.0|                     0.0|            0.0|                 0.0|         64.0|  1.0|\n",
            "|                6.0|                     1.0|                   1.0|                1.0|                      0.0|                  0.0|                     0.0|            0.0|                 2.0|          4.0|  1.0|\n",
            "|                6.0|                     1.0|                   1.0|                1.0|                      0.0|                  0.0|                     0.0|            0.0|                 2.0|          4.0|  1.0|\n",
            "|                6.0|                     1.0|                   1.0|                1.0|                      0.0|                  0.0|                     0.0|            0.0|                 2.0|          4.0|  1.0|\n",
            "+-------------------+------------------------+----------------------+-------------------+-------------------------+---------------------+------------------------+---------------+--------------------+-------------+-----+\n",
            "only showing top 20 rows\n",
            "\n"
          ]
        }
      ],
      "source": [
        "### Create the index values for categorical values\n",
        "# Initialize StringIndexer (use inputCols and outputCols)\n",
        "inputIndexer = StringIndexer(inputCols = categoryCols, outputCols = outputCols, handleInvalid = 'keep')\n",
        "\n",
        "# Call the fit and transform() method to get the encoded results\n",
        "df_indexed = inputIndexer.fit(AccidentFinal).transform(AccidentFinal)\n",
        "\n",
        "# Display the output, only the output columns\n",
        "df_indexed.select(outputCols).show()"
      ]
    },
    {
      "cell_type": "code",
      "execution_count": null,
      "metadata": {
        "id": "6_EH0NlfRdS6",
        "outputId": "b1915987-e785-487f-abb6-c04ff68ecd74"
      },
      "outputs": [
        {
          "name": "stdout",
          "output_type": "stream",
          "text": [
            "+-----------------+----------------------+--------------------+-----------------+-----------------------+-------------------+----------------------+-------------+------------------+---------------+\n",
            "|dayOfWeekDesc_vec|lightConditionDesc_vec|roadGeometryDesc_vec|speedZoneDesc_vec|roadSurfaceTypeDesc_vec|vehicleTypeDesc_vec|trafficControlDesc_vec|driverSex_vec|driverAgeGroup_vec|    LGAName_vec|\n",
            "+-----------------+----------------------+--------------------+-----------------+-----------------------+-------------------+----------------------+-------------+------------------+---------------+\n",
            "|    (7,[5],[1.0])|         (7,[0],[1.0])|       (9,[1],[1.0])|   (13,[1],[1.0])|          (4,[0],[1.0])|     (21,[1],[1.0])|        (17,[0],[1.0])|(3,[0],[1.0])|    (13,[1],[1.0])|(88,[14],[1.0])|\n",
            "|    (7,[5],[1.0])|         (7,[0],[1.0])|       (9,[1],[1.0])|   (13,[1],[1.0])|          (4,[0],[1.0])|     (21,[1],[1.0])|        (17,[0],[1.0])|(3,[0],[1.0])|    (13,[1],[1.0])|(88,[14],[1.0])|\n",
            "|    (7,[0],[1.0])|         (7,[1],[1.0])|       (9,[0],[1.0])|   (13,[1],[1.0])|          (4,[2],[1.0])|     (21,[0],[1.0])|        (17,[1],[1.0])|(3,[0],[1.0])|    (13,[3],[1.0])| (88,[2],[1.0])|\n",
            "|    (7,[0],[1.0])|         (7,[1],[1.0])|       (9,[0],[1.0])|   (13,[1],[1.0])|          (4,[2],[1.0])|     (21,[0],[1.0])|        (17,[1],[1.0])|(3,[0],[1.0])|    (13,[3],[1.0])| (88,[2],[1.0])|\n",
            "|    (7,[1],[1.0])|         (7,[0],[1.0])|       (9,[2],[1.0])|   (13,[1],[1.0])|          (4,[0],[1.0])|     (21,[0],[1.0])|        (17,[2],[1.0])|(3,[0],[1.0])|    (13,[3],[1.0])|(88,[14],[1.0])|\n",
            "|    (7,[1],[1.0])|         (7,[0],[1.0])|       (9,[2],[1.0])|   (13,[1],[1.0])|          (4,[0],[1.0])|     (21,[0],[1.0])|        (17,[2],[1.0])|(3,[0],[1.0])|    (13,[3],[1.0])|(88,[14],[1.0])|\n",
            "|    (7,[1],[1.0])|         (7,[0],[1.0])|       (9,[2],[1.0])|   (13,[1],[1.0])|          (4,[0],[1.0])|     (21,[0],[1.0])|        (17,[2],[1.0])|(3,[0],[1.0])|    (13,[3],[1.0])|(88,[14],[1.0])|\n",
            "|    (7,[6],[1.0])|         (7,[0],[1.0])|       (9,[1],[1.0])|   (13,[0],[1.0])|          (4,[0],[1.0])|     (21,[0],[1.0])|        (17,[2],[1.0])|(3,[1],[1.0])|    (13,[4],[1.0])|(88,[22],[1.0])|\n",
            "|    (7,[6],[1.0])|         (7,[0],[1.0])|       (9,[1],[1.0])|   (13,[0],[1.0])|          (4,[0],[1.0])|     (21,[0],[1.0])|        (17,[2],[1.0])|(3,[1],[1.0])|    (13,[4],[1.0])|(88,[22],[1.0])|\n",
            "|    (7,[3],[1.0])|         (7,[2],[1.0])|       (9,[0],[1.0])|   (13,[0],[1.0])|          (4,[1],[1.0])|     (21,[2],[1.0])|        (17,[0],[1.0])|(3,[0],[1.0])|    (13,[0],[1.0])| (88,[9],[1.0])|\n",
            "|    (7,[0],[1.0])|         (7,[0],[1.0])|       (9,[1],[1.0])|   (13,[1],[1.0])|          (4,[0],[1.0])|     (21,[0],[1.0])|        (17,[1],[1.0])|(3,[1],[1.0])|    (13,[7],[1.0])| (88,[7],[1.0])|\n",
            "|    (7,[2],[1.0])|         (7,[0],[1.0])|       (9,[0],[1.0])|   (13,[2],[1.0])|          (4,[0],[1.0])|     (21,[0],[1.0])|        (17,[0],[1.0])|(3,[0],[1.0])|    (13,[7],[1.0])|(88,[10],[1.0])|\n",
            "|    (7,[2],[1.0])|         (7,[0],[1.0])|       (9,[0],[1.0])|   (13,[2],[1.0])|          (4,[0],[1.0])|     (21,[0],[1.0])|        (17,[0],[1.0])|(3,[0],[1.0])|    (13,[7],[1.0])|(88,[10],[1.0])|\n",
            "|    (7,[5],[1.0])|         (7,[1],[1.0])|       (9,[1],[1.0])|   (13,[3],[1.0])|          (4,[0],[1.0])|     (21,[0],[1.0])|        (17,[4],[1.0])|(3,[1],[1.0])|    (13,[3],[1.0])| (88,[2],[1.0])|\n",
            "|    (7,[5],[1.0])|         (7,[1],[1.0])|       (9,[1],[1.0])|   (13,[3],[1.0])|          (4,[0],[1.0])|     (21,[0],[1.0])|        (17,[4],[1.0])|(3,[1],[1.0])|    (13,[3],[1.0])| (88,[2],[1.0])|\n",
            "|    (7,[5],[1.0])|         (7,[1],[1.0])|       (9,[1],[1.0])|   (13,[3],[1.0])|          (4,[0],[1.0])|     (21,[0],[1.0])|        (17,[4],[1.0])|(3,[1],[1.0])|    (13,[3],[1.0])| (88,[2],[1.0])|\n",
            "|    (7,[1],[1.0])|         (7,[0],[1.0])|       (9,[0],[1.0])|   (13,[8],[1.0])|          (4,[0],[1.0])|     (21,[0],[1.0])|        (17,[0],[1.0])|(3,[0],[1.0])|    (13,[0],[1.0])|(88,[64],[1.0])|\n",
            "|    (7,[6],[1.0])|         (7,[1],[1.0])|       (9,[1],[1.0])|   (13,[1],[1.0])|          (4,[0],[1.0])|     (21,[0],[1.0])|        (17,[0],[1.0])|(3,[0],[1.0])|    (13,[2],[1.0])| (88,[4],[1.0])|\n",
            "|    (7,[6],[1.0])|         (7,[1],[1.0])|       (9,[1],[1.0])|   (13,[1],[1.0])|          (4,[0],[1.0])|     (21,[0],[1.0])|        (17,[0],[1.0])|(3,[0],[1.0])|    (13,[2],[1.0])| (88,[4],[1.0])|\n",
            "|    (7,[6],[1.0])|         (7,[1],[1.0])|       (9,[1],[1.0])|   (13,[1],[1.0])|          (4,[0],[1.0])|     (21,[0],[1.0])|        (17,[0],[1.0])|(3,[0],[1.0])|    (13,[2],[1.0])| (88,[4],[1.0])|\n",
            "+-----------------+----------------------+--------------------+-----------------+-----------------------+-------------------+----------------------+-------------+------------------+---------------+\n",
            "only showing top 20 rows\n",
            "\n"
          ]
        }
      ],
      "source": [
        "from pyspark.ml.feature import OneHotEncoder\n",
        "\n",
        "# input columns for OHE are all output columns from StringIndexer except label\n",
        "inputCols_OHE  = [x for x in outputCols if x!='label']\n",
        "outputCols_OHE = [f'{x}_vec' for x in categoryInputCols]\n",
        "\n",
        "# Define OneHotEncoder with the appropriate columns\n",
        "encoder = OneHotEncoder(inputCols  = inputCols_OHE, outputCols = outputCols_OHE)\n",
        "\n",
        "model = encoder.fit(df_indexed)\n",
        "# Call fit and transform to get the encoded results\n",
        "df_encoded = model.transform(df_indexed)\n",
        "# Display the output columns\n",
        "df_encoded.select(outputCols_OHE).show()"
      ]
    },
    {
      "cell_type": "code",
      "execution_count": null,
      "metadata": {
        "id": "_gGfM75_RdS7",
        "outputId": "832fae55-a423-4feb-cb85-0f0837990226"
      },
      "outputs": [
        {
          "name": "stdout",
          "output_type": "stream",
          "text": [
            "+--------------------+\n",
            "|            features|\n",
            "+--------------------+\n",
            "|(195,[5,7,15,24,3...|\n",
            "|(195,[5,7,15,24,3...|\n",
            "|(195,[0,8,14,24,3...|\n",
            "|(195,[0,8,14,24,3...|\n",
            "|(195,[1,7,16,24,3...|\n",
            "|(195,[1,7,16,24,3...|\n",
            "|(195,[1,7,16,24,3...|\n",
            "|(195,[6,7,15,23,3...|\n",
            "|(195,[6,7,15,23,3...|\n",
            "|(195,[3,9,14,23,3...|\n",
            "|(195,[0,7,15,24,3...|\n",
            "|(195,[2,7,14,25,3...|\n",
            "|(195,[2,7,14,25,3...|\n",
            "|(195,[5,8,15,26,3...|\n",
            "|(195,[5,8,15,26,3...|\n",
            "|(195,[5,8,15,26,3...|\n",
            "|(195,[1,7,14,31,3...|\n",
            "|(195,[6,8,15,24,3...|\n",
            "|(195,[6,8,15,24,3...|\n",
            "|(195,[6,8,15,24,3...|\n",
            "+--------------------+\n",
            "only showing top 20 rows\n",
            "\n"
          ]
        }
      ],
      "source": [
        "from pyspark.ml.feature import VectorAssembler\n",
        "\n",
        "# inputCols are all the encoded columns from OHE plus numerical columns\n",
        "inputCols       = outputCols_OHE\n",
        "assemblerInputs = outputCols_OHE + numericalInputCols\n",
        "\n",
        "# Define the assembler with appropriate input and output columns\n",
        "assembler = VectorAssembler(inputCols = assemblerInputs, outputCol = \"features\")\n",
        "\n",
        "# use the assembler transform() to get encoded results\n",
        "df_final = assembler.transform(df_encoded)\n",
        "# Display the output\n",
        "df_final.select('features').show()"
      ]
    },
    {
      "cell_type": "markdown",
      "metadata": {
        "id": "iTbZpHffRdS7"
      },
      "source": [
        "### Pipeline API <a class=\"anchor\" name=\"pipeline\"></a>"
      ]
    },
    {
      "cell_type": "code",
      "execution_count": null,
      "metadata": {
        "id": "4ZtvBg_uRdS7",
        "outputId": "36501da1-9ca7-4e41-ffbe-078f62dffebc"
      },
      "outputs": [
        {
          "name": "stdout",
          "output_type": "stream",
          "text": [
            "root\n",
            " |-- label: double (nullable = false)\n",
            " |-- features: vector (nullable = true)\n",
            " |-- dayOfWeekDesc: string (nullable = true)\n",
            " |-- lightConditionDesc: string (nullable = true)\n",
            " |-- roadGeometryDesc: string (nullable = true)\n",
            " |-- speedZoneDesc: string (nullable = true)\n",
            " |-- dust: integer (nullable = true)\n",
            " |-- fog: integer (nullable = true)\n",
            " |-- raining: integer (nullable = true)\n",
            " |-- smoke: integer (nullable = true)\n",
            " |-- snowing: integer (nullable = true)\n",
            " |-- strongWinds: integer (nullable = true)\n",
            " |-- icy: integer (nullable = true)\n",
            " |-- muddy: integer (nullable = true)\n",
            " |-- snowy: integer (nullable = true)\n",
            " |-- wet: integer (nullable = true)\n",
            " |-- dry: integer (nullable = true)\n",
            " |-- clear: integer (nullable = true)\n",
            " |-- vehicleYearManuf: integer (nullable = true)\n",
            " |-- roadSurfaceTypeDesc: string (nullable = true)\n",
            " |-- vehicleTypeDesc: string (nullable = true)\n",
            " |-- trafficControlDesc: string (nullable = true)\n",
            " |-- driverSex: string (nullable = true)\n",
            " |-- driverAgeGroup: string (nullable = true)\n",
            " |-- LGAName: string (nullable = true)\n",
            " |-- severeAccident: integer (nullable = true)\n",
            "\n"
          ]
        }
      ],
      "source": [
        "# Pipelines and PipelineModels help to ensure that training and test data go through identical\n",
        "# feature processing steps.\n",
        "\n",
        "stage_1 = inputIndexer\n",
        "stage_2 = encoder\n",
        "stage_3 = assembler\n",
        "\n",
        "stages = [stage_1,stage_2,stage_3]\n",
        "\n",
        "pipeline      = Pipeline(stages = stages)\n",
        "pipelineModel = pipeline.fit(AccidentFinal)\n",
        "df_pipeline   = pipelineModel.transform(AccidentFinal)\n",
        "\n",
        "#Choose only label and features to create a dataframe\n",
        "selectedCols = ['label', 'features'] + AccidentFinal.columns\n",
        "df_pipeline  = df_pipeline.select(selectedCols)\n",
        "df_pipeline.printSchema()"
      ]
    },
    {
      "cell_type": "markdown",
      "metadata": {
        "id": "zfC67KGwRdS7"
      },
      "source": [
        "###  Train/Test Split <a class=\"anchor\" name=\"train-test\"></a>"
      ]
    },
    {
      "cell_type": "code",
      "execution_count": null,
      "metadata": {
        "id": "JTkMU4wlRdS7",
        "outputId": "5be3de6d-0f11-4d13-806b-543f995a8089"
      },
      "outputs": [
        {
          "name": "stdout",
          "output_type": "stream",
          "text": [
            "Training Dataset Count: 183117\n",
            "Test Dataset Count    : 46014\n"
          ]
        }
      ],
      "source": [
        "# Divide data into train sets and test sets\n",
        "train, test = df_pipeline.randomSplit([0.8, 0.2], seed = 2020)\n",
        "print(\"Training Dataset Count: \" + str(train.count()))\n",
        "print(\"Test Dataset Count    : \" + str(test.count()))"
      ]
    },
    {
      "cell_type": "code",
      "execution_count": null,
      "metadata": {
        "id": "SSRMIhswRdS7"
      },
      "outputs": [],
      "source": [
        "## Add Training Dataset to memory\n",
        "train = train.cache()"
      ]
    },
    {
      "cell_type": "markdown",
      "metadata": {
        "id": "Vhh10TRgRdS8"
      },
      "source": [
        "### Run Logistic Regression Model"
      ]
    },
    {
      "cell_type": "code",
      "execution_count": null,
      "metadata": {
        "id": "6spNbPHURdS8"
      },
      "outputs": [],
      "source": [
        "# Create a logistic model using the train set.\n",
        "lr = LogisticRegression(featuresCol = 'features', labelCol = 'label')\n",
        "lrModel = lr.fit(train)"
      ]
    },
    {
      "cell_type": "code",
      "execution_count": null,
      "metadata": {
        "scrolled": true,
        "id": "4WvFxi9JRdS8",
        "outputId": "18d6b50b-9699-4fc7-fedd-34662b50e132"
      },
      "outputs": [
        {
          "name": "stdout",
          "output_type": "stream",
          "text": [
            "+--------------------+-----+----------+--------------------+\n",
            "|            features|label|prediction|         probability|\n",
            "+--------------------+-----+----------+--------------------+\n",
            "|(195,[0,7,14,23,3...|  1.0|       0.0|[0.62094281393110...|\n",
            "|(195,[0,7,14,23,3...|  1.0|       0.0|[0.61712098226159...|\n",
            "|(195,[0,7,14,23,3...|  1.0|       0.0|[0.50182500396728...|\n",
            "|(195,[0,7,14,23,3...|  1.0|       0.0|[0.65397122440126...|\n",
            "|(195,[0,7,14,23,3...|  1.0|       0.0|[0.65397122440126...|\n",
            "|(195,[0,7,14,23,3...|  1.0|       0.0|[0.54031675781631...|\n",
            "|(195,[0,7,14,23,3...|  1.0|       0.0|[0.58251152482309...|\n",
            "|(195,[0,7,14,23,3...|  1.0|       0.0|[0.61422290101123...|\n",
            "|(195,[0,7,14,23,3...|  1.0|       0.0|[0.58684317909735...|\n",
            "|(195,[0,7,14,23,3...|  1.0|       0.0|[0.54997023911511...|\n",
            "|(195,[0,7,14,23,3...|  1.0|       0.0|[0.54997023911511...|\n",
            "|(195,[0,7,14,23,3...|  1.0|       0.0|[0.60646189989814...|\n",
            "|(195,[0,7,14,23,3...|  1.0|       0.0|[0.55646328394103...|\n",
            "|(195,[0,7,14,23,3...|  1.0|       0.0|[0.57752789293242...|\n",
            "|(195,[0,7,14,23,3...|  1.0|       0.0|[0.62109805516344...|\n",
            "|(195,[0,7,14,23,3...|  1.0|       0.0|[0.64316566912790...|\n",
            "|(195,[0,7,14,23,3...|  1.0|       0.0|[0.61093754294822...|\n",
            "|(195,[0,7,14,23,3...|  1.0|       1.0|[0.33842980735623...|\n",
            "|(195,[0,7,14,23,3...|  1.0|       1.0|[0.38503642747996...|\n",
            "|(195,[0,7,14,23,3...|  1.0|       0.0|[0.54847584890261...|\n",
            "+--------------------+-----+----------+--------------------+\n",
            "only showing top 20 rows\n",
            "\n"
          ]
        }
      ],
      "source": [
        "# Predict using logistic regression model on test data\n",
        "lrPredictions = lrModel.transform(test)\n",
        "lrPredictions.select('features','label','prediction','probability').show()"
      ]
    },
    {
      "cell_type": "markdown",
      "metadata": {
        "id": "rlstcxK1RdS8"
      },
      "source": [
        "### Random Forest Model"
      ]
    },
    {
      "cell_type": "code",
      "execution_count": null,
      "metadata": {
        "id": "VCtr2RwLRdS8"
      },
      "outputs": [],
      "source": [
        "# Create a Random Forest Classification model and train it\n",
        "rf = RandomForestClassifier(featuresCol = 'features', labelCol = 'label', seed=2020)\n",
        "rfModel = rf.fit(train)"
      ]
    },
    {
      "cell_type": "code",
      "execution_count": null,
      "metadata": {
        "id": "taVBe8xgRdTF",
        "outputId": "05e4986f-c52f-4a4b-d465-a46a5d01aab3"
      },
      "outputs": [
        {
          "name": "stdout",
          "output_type": "stream",
          "text": [
            "+--------------------+-----+----------+--------------------+\n",
            "|            features|label|prediction|         probability|\n",
            "+--------------------+-----+----------+--------------------+\n",
            "|(195,[0,7,14,23,3...|  1.0|       0.0|[0.50854753455757...|\n",
            "|(195,[0,7,14,23,3...|  1.0|       0.0|[0.50854753455757...|\n",
            "|(195,[0,7,14,23,3...|  1.0|       0.0|[0.52476405104951...|\n",
            "|(195,[0,7,14,23,3...|  1.0|       0.0|[0.50854753455757...|\n",
            "|(195,[0,7,14,23,3...|  1.0|       0.0|[0.50854753455757...|\n",
            "|(195,[0,7,14,23,3...|  1.0|       0.0|[0.52519521071331...|\n",
            "|(195,[0,7,14,23,3...|  1.0|       0.0|[0.52869842099125...|\n",
            "|(195,[0,7,14,23,3...|  1.0|       0.0|[0.50535880720912...|\n",
            "|(195,[0,7,14,23,3...|  1.0|       0.0|[0.52041226047563...|\n",
            "|(195,[0,7,14,23,3...|  1.0|       0.0|[0.50392308452929...|\n",
            "|(195,[0,7,14,23,3...|  1.0|       0.0|[0.50392308452929...|\n",
            "|(195,[0,7,14,23,3...|  1.0|       0.0|[0.50392308452929...|\n",
            "|(195,[0,7,14,23,3...|  1.0|       0.0|[0.50392308452929...|\n",
            "|(195,[0,7,14,23,3...|  1.0|       0.0|[0.51934276506779...|\n",
            "|(195,[0,7,14,23,3...|  1.0|       0.0|[0.50392308452929...|\n",
            "|(195,[0,7,14,23,3...|  1.0|       0.0|[0.50392308452929...|\n",
            "|(195,[0,7,14,23,3...|  1.0|       0.0|[0.51934276506779...|\n",
            "|(195,[0,7,14,23,3...|  1.0|       1.0|[0.43144316050423...|\n",
            "|(195,[0,7,14,23,3...|  1.0|       1.0|[0.44793233645058...|\n",
            "|(195,[0,7,14,23,3...|  1.0|       0.0|[0.51934276506779...|\n",
            "+--------------------+-----+----------+--------------------+\n",
            "only showing top 20 rows\n",
            "\n"
          ]
        }
      ],
      "source": [
        "# Predict using test data\n",
        "rfPredictions = rfModel.transform(test)\n",
        "rfPredictions.select('features','label','prediction','probability').show()"
      ]
    },
    {
      "cell_type": "markdown",
      "metadata": {
        "id": "JeVLxe2jRdTF"
      },
      "source": [
        "### Decision Tree"
      ]
    },
    {
      "cell_type": "code",
      "execution_count": null,
      "metadata": {
        "id": "UAeRTdt7RdTF"
      },
      "outputs": [],
      "source": [
        "# Extracts the number of nodes in the decision tree and the tree depth in the model and stores it in dt.\n",
        "dt = DecisionTreeClassifier(featuresCol = 'features', labelCol = 'label')\n",
        "dtModel = dt.fit(train)"
      ]
    },
    {
      "cell_type": "code",
      "execution_count": null,
      "metadata": {
        "id": "OGkO7tWpRdTF",
        "outputId": "c1d8a352-c7cf-461a-eef3-7e7137d8fd68"
      },
      "outputs": [
        {
          "name": "stdout",
          "output_type": "stream",
          "text": [
            "+--------------------+-----+----------+--------------------+\n",
            "|            features|label|prediction|         probability|\n",
            "+--------------------+-----+----------+--------------------+\n",
            "|(195,[0,7,14,23,3...|  1.0|       0.0|[0.55061715980793...|\n",
            "|(195,[0,7,14,23,3...|  1.0|       0.0|[0.55061715980793...|\n",
            "|(195,[0,7,14,23,3...|  1.0|       0.0|[0.66466314532612...|\n",
            "|(195,[0,7,14,23,3...|  1.0|       0.0|[0.55061715980793...|\n",
            "|(195,[0,7,14,23,3...|  1.0|       0.0|[0.55061715980793...|\n",
            "|(195,[0,7,14,23,3...|  1.0|       0.0|[0.66466314532612...|\n",
            "|(195,[0,7,14,23,3...|  1.0|       0.0|[0.66466314532612...|\n",
            "|(195,[0,7,14,23,3...|  1.0|       0.0|[0.55061715980793...|\n",
            "|(195,[0,7,14,23,3...|  1.0|       0.0|[0.66466314532612...|\n",
            "|(195,[0,7,14,23,3...|  1.0|       0.0|[0.55061715980793...|\n",
            "|(195,[0,7,14,23,3...|  1.0|       0.0|[0.55061715980793...|\n",
            "|(195,[0,7,14,23,3...|  1.0|       0.0|[0.55061715980793...|\n",
            "|(195,[0,7,14,23,3...|  1.0|       0.0|[0.55061715980793...|\n",
            "|(195,[0,7,14,23,3...|  1.0|       0.0|[0.66466314532612...|\n",
            "|(195,[0,7,14,23,3...|  1.0|       0.0|[0.55061715980793...|\n",
            "|(195,[0,7,14,23,3...|  1.0|       0.0|[0.55061715980793...|\n",
            "|(195,[0,7,14,23,3...|  1.0|       0.0|[0.66466314532612...|\n",
            "|(195,[0,7,14,23,3...|  1.0|       1.0|[0.31599479843953...|\n",
            "|(195,[0,7,14,23,3...|  1.0|       1.0|[0.35687095546250...|\n",
            "|(195,[0,7,14,23,3...|  1.0|       0.0|[0.66466314532612...|\n",
            "+--------------------+-----+----------+--------------------+\n",
            "only showing top 20 rows\n",
            "\n"
          ]
        }
      ],
      "source": [
        "# Predict using test data\n",
        "dtPredictions = dtModel.transform(test)\n",
        "dtPredictions.select('features','label','prediction','probability').show()"
      ]
    },
    {
      "cell_type": "markdown",
      "metadata": {
        "id": "yf14f4kORdTF"
      },
      "source": [
        "### Naive Bayes Model"
      ]
    },
    {
      "cell_type": "code",
      "execution_count": null,
      "metadata": {
        "id": "nw6SHKtVRdTG"
      },
      "outputs": [],
      "source": [
        "# Train Naive Bayes model\n",
        "nb = NaiveBayes(labelCol = \"label\", featuresCol = \"features\")\n",
        "nbModel = nb.fit(train)"
      ]
    },
    {
      "cell_type": "code",
      "execution_count": null,
      "metadata": {
        "id": "gk7IGnFGRdTG",
        "outputId": "e67d4f9f-462d-4e4c-e955-82920c896714"
      },
      "outputs": [
        {
          "name": "stdout",
          "output_type": "stream",
          "text": [
            "+--------------------+-----+----------+--------------------+\n",
            "|            features|label|prediction|         probability|\n",
            "+--------------------+-----+----------+--------------------+\n",
            "|(195,[0,7,14,23,3...|  1.0|       0.0|[0.61548562369771...|\n",
            "|(195,[0,7,14,23,3...|  1.0|       0.0|[0.61421815265282...|\n",
            "|(195,[0,7,14,23,3...|  1.0|       1.0|[0.47035165976647...|\n",
            "|(195,[0,7,14,23,3...|  1.0|       0.0|[0.67291793464969...|\n",
            "|(195,[0,7,14,23,3...|  1.0|       0.0|[0.67291793464969...|\n",
            "|(195,[0,7,14,23,3...|  1.0|       0.0|[0.55435679515054...|\n",
            "|(195,[0,7,14,23,3...|  1.0|       0.0|[0.59129449437268...|\n",
            "|(195,[0,7,14,23,3...|  1.0|       0.0|[0.61437085879589...|\n",
            "|(195,[0,7,14,23,3...|  1.0|       0.0|[0.57759097303604...|\n",
            "|(195,[0,7,14,23,3...|  1.0|       1.0|[0.47501712902170...|\n",
            "|(195,[0,7,14,23,3...|  1.0|       1.0|[0.47501712902170...|\n",
            "|(195,[0,7,14,23,3...|  1.0|       0.0|[0.52291282904112...|\n",
            "|(195,[0,7,14,23,3...|  1.0|       1.0|[0.43568252622063...|\n",
            "|(195,[0,7,14,23,3...|  1.0|       0.0|[0.54543381433064...|\n",
            "|(195,[0,7,14,23,3...|  1.0|       0.0|[0.52361435532493...|\n",
            "|(195,[0,7,14,23,3...|  1.0|       0.0|[0.60839473051373...|\n",
            "|(195,[0,7,14,23,3...|  1.0|       0.0|[0.54280183782813...|\n",
            "|(195,[0,7,14,23,3...|  1.0|       1.0|[0.36909081011335...|\n",
            "|(195,[0,7,14,23,3...|  1.0|       1.0|[0.38236305587038...|\n",
            "|(195,[0,7,14,23,3...|  1.0|       0.0|[0.58188684320569...|\n",
            "+--------------------+-----+----------+--------------------+\n",
            "only showing top 20 rows\n",
            "\n"
          ]
        }
      ],
      "source": [
        "# Predict using test data\n",
        "nbPredictions = nbModel.transform(test)\n",
        "nbPredictions.select('features','label','prediction','probability').show()"
      ]
    },
    {
      "cell_type": "code",
      "execution_count": null,
      "metadata": {
        "id": "C5_UC7n2RdTG"
      },
      "outputs": [],
      "source": [
        "#Drop Training Set from memory\n",
        "#train.unpersist()"
      ]
    },
    {
      "cell_type": "markdown",
      "metadata": {
        "id": "4vxkT6ihRdTG"
      },
      "source": [
        "## Model Evaluation\n",
        "Lets evaluate the module using the Confusion matrix"
      ]
    },
    {
      "cell_type": "code",
      "execution_count": null,
      "metadata": {
        "id": "EUrG2b0WRdTG"
      },
      "outputs": [],
      "source": [
        "def compute_metrics(predictions):\n",
        "    # Calculate the elements of the confusion matrix\n",
        "\n",
        "    ## Select only the two columns we need and cache table\n",
        "    metrics = predictions.select(\"label\",\"prediction\").cache()\n",
        "\n",
        "    # do the calculations\n",
        "\n",
        "    TN = metrics.filter('prediction = 0 AND label = 0').count()\n",
        "    TP = metrics.filter('prediction = 1 AND label = 1').count()\n",
        "    FN = metrics.filter('prediction = 0 AND label = 1').count()\n",
        "    FP = metrics.filter('prediction = 1 AND label = 0').count()\n",
        "\n",
        "\n",
        "    ## Remove table to clean up memory\n",
        "    metrics.unpersist()\n",
        "\n",
        "    # return error message if evaluation divides by zero\n",
        "    if (TN + TP + FN + FP) == 0 or (TP + FP) == 0 or (TP + FN) == 0:\n",
        "        return 'div by zero error - check model'\n",
        "\n",
        "    # calculate metrics by the confusion matrix\n",
        "    accuracy  = (TN + TP) / (TN + TP + FN + FP)\n",
        "    precision = TP        / (TP + FP)\n",
        "    recall    = TP        / (TP + FN)\n",
        "    f1        = 2 / ( ( 1 / recall) + ( 1 / precision) )\n",
        "\n",
        "    # Print metrics\n",
        "    print('-------------------------')\n",
        "    print('Predict    Label   Count')\n",
        "    print('-------------------------')\n",
        "    print(f'   0         0     { TN }')\n",
        "    print(f'   1         1     { TP }')\n",
        "    print(f'   0         1     { FN }')\n",
        "    print(f'   1         0     { FP }')\n",
        "    print('\\n')\n",
        "    print(f'Accuracy : {accuracy  :3.3}')\n",
        "    print(f'Precision: {precision :3.3}')\n",
        "    print(f'Recall   : {recall    :3.3}')\n",
        "    print(f'F1       : {f1        :3.3}')\n",
        "\n",
        "    return accuracy,precision,recall,f1"
      ]
    },
    {
      "cell_type": "code",
      "execution_count": null,
      "metadata": {
        "id": "ii-4TCwARdTH",
        "outputId": "554b307e-9614-47fd-818b-98214d3ba27e"
      },
      "outputs": [
        {
          "name": "stdout",
          "output_type": "stream",
          "text": [
            "Logistic Regression Classifier\n",
            "-------------------------\n",
            "Predict    Label   Count\n",
            "-------------------------\n",
            "   0         0     15745\n",
            "   1         1     13704\n",
            "   0         1     9071\n",
            "   1         0     7494\n",
            "\n",
            "\n",
            "Accuracy : 0.64\n",
            "Precision: 0.646\n",
            "Recall   : 0.602\n",
            "F1       : 0.623\n",
            "\n",
            "Random Forest Classifier\n",
            "-------------------------\n",
            "Predict    Label   Count\n",
            "-------------------------\n",
            "   0         0     15990\n",
            "   1         1     12931\n",
            "   0         1     9844\n",
            "   1         0     7249\n",
            "\n",
            "\n",
            "Accuracy : 0.629\n",
            "Precision: 0.641\n",
            "Recall   : 0.568\n",
            "F1       : 0.602\n",
            "\n",
            "Decision Tree Classifier\n",
            "-------------------------\n",
            "Predict    Label   Count\n",
            "-------------------------\n",
            "   0         0     17530\n",
            "   1         1     11134\n",
            "   0         1     11641\n",
            "   1         0     5709\n",
            "\n",
            "\n",
            "Accuracy : 0.623\n",
            "Precision: 0.661\n",
            "Recall   : 0.489\n",
            "F1       : 0.562\n",
            "\n",
            "Naive Bayes Classifier\n",
            "-------------------------\n",
            "Predict    Label   Count\n",
            "-------------------------\n",
            "   0         0     15995\n",
            "   1         1     12830\n",
            "   0         1     9945\n",
            "   1         0     7244\n",
            "\n",
            "\n",
            "Accuracy : 0.626\n",
            "Precision: 0.639\n",
            "Recall   : 0.563\n",
            "F1       : 0.599\n",
            "CPU times: user 22.3 ms, sys: 8.81 ms, total: 31.1 ms\n",
            "Wall time: 10.4 s\n"
          ]
        }
      ],
      "source": [
        "%%time\n",
        "\n",
        "%matplotlib inline\n",
        "\n",
        "print('Logistic Regression Classifier')\n",
        "lr_acc,lr_pr,lr_rec,lr_f1 = compute_metrics(lrPredictions)\n",
        "\n",
        "print('\\nRandom Forest Classifier')\n",
        "rf_acc,rf_pr,rf_rec,rf_f1 = compute_metrics(rfPredictions)\n",
        "\n",
        "print('\\nDecision Tree Classifier')\n",
        "dt_acc,dt_pr,dt_rec,dt_f1 = compute_metrics(dtPredictions)\n",
        "\n",
        "print('\\nNaive Bayes Classifier')\n",
        "nb_acc,nb_pr,nb_rec,nb_f1 = compute_metrics(nbPredictions)"
      ]
    },
    {
      "cell_type": "code",
      "execution_count": null,
      "metadata": {
        "id": "wLdn9BtwRdTH",
        "outputId": "bc6128e1-45cd-4ab6-c40a-0d0039627dec"
      },
      "outputs": [
        {
          "data": {
            "image/png": "[encoded data removed]",
            "text/plain": [
              "<Figure size 432x288 with 1 Axes>"
            ]
          },
          "metadata": {
            "needs_background": "light"
          },
          "output_type": "display_data"
        }
      ],
      "source": [
        "## Let's graph these values\n",
        "y_acc = [lr_acc,dt_acc,rf_acc,nb_acc]\n",
        "y_pr  = [lr_pr,dt_pr,rf_pr,nb_pr]\n",
        "y_rec = [lr_rec,dt_rec,rf_rec,nb_rec]\n",
        "\n",
        "# set width of bar\n",
        "barWidth = 0.25\n",
        "\n",
        "# Set position of bar on X axis\n",
        "r1 = np.arange(len(y_acc))\n",
        "r2 = [x + barWidth for x in r1]\n",
        "r3 = [x + barWidth for x in r2]\n",
        "\n",
        "# Make the plot\n",
        "plt.bar(r1, y_acc, color='#7f6d5f', width = barWidth, edgecolor = 'white', label = 'Accuracy')\n",
        "plt.bar(r2, y_pr,  color='#557f2d', width = barWidth, edgecolor = 'white', label = 'Precision')\n",
        "plt.bar(r3, y_rec, color='#2d7f5e', width = barWidth, edgecolor = 'white', label = 'Recall')\n",
        "\n",
        "# Add xticks on the middle of the group bars\n",
        "plt.xlabel('group', fontweight='bold')\n",
        "plt.xticks([r + barWidth for r in range(len(y_acc))], ['LR', 'DT', 'RF', 'NB'])\n",
        "\n",
        "# Create legend & Show graphic\n",
        "plt.legend(bbox_to_anchor=(1.04,0), loc = 'lower left')\n",
        "plt.show()\n"
      ]
    },
    {
      "cell_type": "code",
      "execution_count": null,
      "metadata": {
        "id": "4Q_PS1z5RdTH",
        "outputId": "f20f3339-1d3d-4db1-e3ee-38f0149d1cce"
      },
      "outputs": [
        {
          "data": {
            "image/png": "[encoded data removed]",
            "text/plain": [
              "<Figure size 432x288 with 1 Axes>"
            ]
          },
          "metadata": {
            "needs_background": "light"
          },
          "output_type": "display_data"
        }
      ],
      "source": [
        "## Alternative Graph the Data to compare like variables by different methods\n",
        "\n",
        "lr_data = [lr_acc, lr_pr, lr_rec]\n",
        "dt_data = [dt_acc, dt_pr, dt_rec]\n",
        "rf_data = [rf_acc, rf_pr, rf_rec]\n",
        "nb_data = [nb_acc, nb_pr, nb_rec]\n",
        "\n",
        "\n",
        "# set width of bar\n",
        "barWidth = 0.20\n",
        "\n",
        "# Set position of bar on X axis\n",
        "r1 = np.arange(len(lr_data))\n",
        "r2 = [x + barWidth for x in r1]\n",
        "r3 = [x + barWidth for x in r2]\n",
        "r4 = [x + barWidth for x in r3]\n",
        "\n",
        "# Make the plot\n",
        "plt.bar(r1, lr_data,  color = '#7f6d5f', width = barWidth, edgecolor = 'white', label = 'LogReg')\n",
        "plt.bar(r2, dt_data,  color = '#557f2d', width = barWidth, edgecolor = 'white', label = 'DTree')\n",
        "plt.bar(r3, rf_data,  color = '#2d7f5e', width = barWidth, edgecolor = 'white', label = 'RFrst')\n",
        "plt.bar(r4, nb_data,  color = '#ef7f5e', width = barWidth, edgecolor = 'white', label = 'NBayes')\n",
        "\n",
        "# Add xticks on the middle of the group bars\n",
        "plt.xlabel('group', fontweight='bold')\n",
        "plt.xticks([r + barWidth for r in range(len(lr_data))], ['Accuracy', 'Precision', 'Recall'])\n",
        "\n",
        "# Create legend & Show graphic\n",
        "plt.legend(bbox_to_anchor=(1.04,0), loc = 'lower left')\n",
        "plt.show()"
      ]
    },
    {
      "cell_type": "code",
      "execution_count": null,
      "metadata": {
        "id": "4ljezHh0RdTH",
        "outputId": "82b387b1-d7c0-4435-8416-799a603fab49"
      },
      "outputs": [
        {
          "name": "stdout",
          "output_type": "stream",
          "text": [
            "AUC_DT       : 0.408\n",
            "Decision Tree: areaUnderROC\n",
            "\n",
            "AUC_RF       : 0.676\n",
            "Random Forest: areaUnderROC\n",
            "\n",
            "AUC_LR             : 0.65\n",
            "Logistic Regression: areaUnderROC\n",
            "\n",
            "AUC_NB     : 0.526\n",
            "Naive Bayes: areaUnderROC\n",
            "\n",
            "CPU times: user 15.6 ms, sys: 3.88 ms, total: 19.5 ms\n",
            "Wall time: 12.2 s\n"
          ]
        }
      ],
      "source": [
        "%%time\n",
        "# Use BinaryClassificationEvaluator to evaluate a model\n",
        "from pyspark.ml.evaluation import BinaryClassificationEvaluator\n",
        "\n",
        "# Evaluate model Decision Tree\n",
        "evaluator = BinaryClassificationEvaluator(rawPredictionCol = \"rawPrediction\")\n",
        "auc_dt = evaluator.evaluate(dtPredictions)\n",
        "\n",
        "print(f'AUC_DT       : {auc_dt :3.3}')\n",
        "print('Decision Tree: ' + evaluator.getMetricName() + '\\n')\n",
        "\n",
        "auc_rf = evaluator.evaluate(rfPredictions)\n",
        "print(f'AUC_RF       : {auc_rf :3.3}')\n",
        "print('Random Forest: ' + evaluator.getMetricName() + '\\n')\n",
        "\n",
        "auc_lr = evaluator.evaluate(lrPredictions)\n",
        "print(f'AUC_LR             : {auc_lr :3.3}')\n",
        "print('Logistic Regression: ' + evaluator.getMetricName() + '\\n')\n",
        "\n",
        "auc_nb = evaluator.evaluate(nbPredictions)\n",
        "print(f'AUC_NB     : {auc_nb:3.3}')\n",
        "print('Naive Bayes: ' + evaluator.getMetricName() + '\\n')"
      ]
    },
    {
      "cell_type": "markdown",
      "metadata": {
        "id": "FyiDXoGWRdTI"
      },
      "source": [
        "### Extract TPR/FPR for ROC plot"
      ]
    },
    {
      "cell_type": "code",
      "execution_count": null,
      "metadata": {
        "id": "0QfN1sxFRdTI"
      },
      "outputs": [],
      "source": [
        "# numpy for np.linspace function\n",
        "import numpy as np\n",
        "\n",
        "#User Defined Function to split the probabilities into two columns\n",
        "import pyspark.sql.functions as F\n",
        "import pyspark.sql.types     as T\n",
        "to_array = F.udf(lambda v: v.toArray().tolist(), T.ArrayType(T.FloatType()))"
      ]
    },
    {
      "cell_type": "markdown",
      "metadata": {
        "id": "t-jLGhWkRdTI"
      },
      "source": [
        "#### Decision Tree TPR/FPR"
      ]
    },
    {
      "cell_type": "code",
      "execution_count": null,
      "metadata": {
        "id": "WaRgN5hYRdTI",
        "outputId": "a0bd269f-567a-459b-a71e-a1dae4699025"
      },
      "outputs": [
        {
          "data": {
            "text/plain": [
              "DataFrame[negative_prob: float, positive_prob: float, label: double]"
            ]
          },
          "execution_count": 40,
          "metadata": {},
          "output_type": "execute_result"
        }
      ],
      "source": [
        "#Splitting the probability to 2 parts using the UDF\n",
        "dtRocDf = dtPredictions.withColumn('probability', to_array('probability'))\n",
        "dtRocDf\n",
        "\n",
        "#A new df which contains the probabilites in separate columns\n",
        "dtRocDf_prob = dtRocDf.select(dtRocDf.probability[0].alias('negative_prob'),dtRocDf.probability[1].alias('positive_prob'),'label')\n",
        "dtRocDf_prob\n"
      ]
    },
    {
      "cell_type": "markdown",
      "metadata": {
        "id": "v0D85CBJRdTI"
      },
      "source": [
        "#### Random Forest TPR/FPR"
      ]
    },
    {
      "cell_type": "code",
      "execution_count": null,
      "metadata": {
        "id": "zYqrAiNdRdTI",
        "outputId": "0a6cc04c-63c8-49a6-e4a0-85d3b77d6434"
      },
      "outputs": [
        {
          "data": {
            "text/plain": [
              "DataFrame[negative_prob: float, positive_prob: float, label: double]"
            ]
          },
          "execution_count": 41,
          "metadata": {},
          "output_type": "execute_result"
        }
      ],
      "source": [
        "#Splitting the probability to 2 parts using the UDF\n",
        "rfRocDf = rfPredictions.withColumn('probability', to_array('probability'))\n",
        "rfRocDf\n",
        "\n",
        "#A new df which contains the probabilites in separate columns\n",
        "rfRocDf_prob = rfRocDf.select(rfRocDf.probability[0].alias('negative_prob'),rfRocDf.probability[1].alias('positive_prob'),'label')\n",
        "rfRocDf_prob"
      ]
    },
    {
      "cell_type": "markdown",
      "metadata": {
        "id": "GG4MiV6YRdTJ"
      },
      "source": [
        "#### Naive Bayes TPR/FPR"
      ]
    },
    {
      "cell_type": "code",
      "execution_count": null,
      "metadata": {
        "id": "hrDDX8nvRdTJ",
        "outputId": "20744e14-9361-4851-9ed7-91a9bc386921"
      },
      "outputs": [
        {
          "data": {
            "text/plain": [
              "DataFrame[negative_prob: float, positive_prob: float, label: double]"
            ]
          },
          "execution_count": 42,
          "metadata": {},
          "output_type": "execute_result"
        }
      ],
      "source": [
        "#Splitting the probability to 2 parts using the UDF\n",
        "nbRocDf = nbPredictions.withColumn('probability', to_array('probability'))\n",
        "nbRocDf\n",
        "\n",
        "#A new df which contains the probabilites in separate columns\n",
        "nbRocDf_prob = nbRocDf.select(nbRocDf.probability[0].alias('negative_prob'),nbRocDf.probability[1].alias('positive_prob'),'label')\n",
        "nbRocDf_prob"
      ]
    },
    {
      "cell_type": "markdown",
      "metadata": {
        "id": "lPoRryzdRdTJ"
      },
      "source": [
        "#### Linear Regression TPR/FPR"
      ]
    },
    {
      "cell_type": "code",
      "execution_count": null,
      "metadata": {
        "id": "ZhgL8qfdRdTJ",
        "outputId": "20f8e1f0-8294-4a39-ca9f-4e95eb0bac33"
      },
      "outputs": [
        {
          "data": {
            "text/plain": [
              "DataFrame[negative_prob: float, positive_prob: float, label: double]"
            ]
          },
          "execution_count": 43,
          "metadata": {},
          "output_type": "execute_result"
        }
      ],
      "source": [
        "#Splitting the probability to 2 parts using the UDF\n",
        "lrRocDf = lrPredictions.withColumn('probability', to_array('probability'))\n",
        "lrRocDf\n",
        "\n",
        "#A new df which contains the probabilites in separate columns\n",
        "lrRocDf_prob = lrRocDf.select(lrRocDf.probability[0].alias('negative_prob'),lrRocDf.probability[1].alias('positive_prob'),'label')\n",
        "lrRocDf_prob"
      ]
    },
    {
      "cell_type": "code",
      "execution_count": null,
      "metadata": {
        "id": "UHCw4DeORdTJ"
      },
      "outputs": [],
      "source": [
        "def confusion_matrix(predictions):\n",
        "    # Calculate the elements of the confusion matrix\n",
        "\n",
        "    metrics = predictions.select(\"label\",\"prediction\").cache()\n",
        "\n",
        "    TN = metrics.filter('prediction = 0 AND label = 0').count()\n",
        "    TP = metrics.filter('prediction = 1 AND label = 1').count()\n",
        "    FN = metrics.filter('prediction = 0 AND label = 1').count()\n",
        "    FP = metrics.filter('prediction = 1 AND label = 0').count()\n",
        "\n",
        "    metrics.unpersist()\n",
        "\n",
        "    return TP,TN,FP,FN"
      ]
    },
    {
      "cell_type": "code",
      "execution_count": null,
      "metadata": {
        "id": "jhOObEzhRdTJ",
        "outputId": "beebc679-090b-4d2f-ea62-ec0506155796"
      },
      "outputs": [
        {
          "name": "stdout",
          "output_type": "stream",
          "text": [
            "Threshold : 0.000000  TPR : 0.999956  FPR : 0.999957 \n",
            "Threshold : 0.052632  TPR : 0.999956  FPR : 0.999957 \n",
            "Threshold : 0.105263  TPR : 0.999956  FPR : 0.999957 \n",
            "Threshold : 0.157895  TPR : 0.999912  FPR : 0.999742 \n",
            "Threshold : 0.210526  TPR : 0.999912  FPR : 0.999742 \n",
            "Threshold : 0.263158  TPR : 0.998727  FPR : 0.996730 \n",
            "Threshold : 0.315789  TPR : 0.998727  FPR : 0.996730 \n",
            "Threshold : 0.368421  TPR : 0.819012  FPR : 0.639657 \n",
            "Threshold : 0.421053  TPR : 0.818793  FPR : 0.639399 \n",
            "Threshold : 0.473684  TPR : 0.516048  FPR : 0.274108 \n",
            "Threshold : 0.526316  TPR : 0.488869  FPR : 0.245665 \n",
            "Threshold : 0.578947  TPR : 0.439341  FPR : 0.203537 \n",
            "Threshold : 0.631579  TPR : 0.435785  FPR : 0.200826 \n",
            "Threshold : 0.684211  TPR : 0.080088  FPR : 0.019622 \n",
            "Threshold : 0.736842  TPR : 0.066345  FPR : 0.012866 \n",
            "Threshold : 0.789474  TPR : 0.049967  FPR : 0.008692 \n",
            "Threshold : 0.842105  TPR : 0.015456  FPR : 0.002281 \n",
            "Threshold : 0.894737  TPR : 0.000000  FPR : 0.000000 \n",
            "Threshold : 0.947368  TPR : 0.000000  FPR : 0.000000 \n",
            "Threshold : 1.000000  TPR : 0.000000  FPR : 0.000000 \n"
          ]
        }
      ],
      "source": [
        "#Create array of TPR/FPR values - Decision Tree\n",
        "roc_values = []\n",
        "for threshold in np.linspace(0, 1, 20):\n",
        "        dtRocDf_prob = dtRocDf_prob.withColumn('prediction',F.when(dtRocDf_prob.positive_prob > threshold,1).otherwise(0))\n",
        "        tp,tn,fp,fn  = confusion_matrix(dtRocDf_prob)\n",
        "        tpr          = tp / (tp + fn)\n",
        "        fpr          = fp / (fp + tn)\n",
        "\n",
        "        print(f'Threshold : {threshold :6.6f}  TPR : { tpr :6.6f}  FPR : {fpr :6.6f} ')\n",
        "\n",
        "        roc_values.append([tpr, fpr])\n",
        "tpr_dt_values, fpr_dt_values = zip(*roc_values)"
      ]
    },
    {
      "cell_type": "code",
      "execution_count": null,
      "metadata": {
        "id": "mTjaZVDcRdTK",
        "outputId": "af949ca3-38ff-4ed6-ac2e-2a944338c19a"
      },
      "outputs": [
        {
          "name": "stdout",
          "output_type": "stream",
          "text": [
            "Threshold : 0.000000  TPR : 1.000000  FPR : 1.000000 \n",
            "Threshold : 0.052632  TPR : 1.000000  FPR : 1.000000 \n",
            "Threshold : 0.105263  TPR : 1.000000  FPR : 1.000000 \n",
            "Threshold : 0.157895  TPR : 1.000000  FPR : 1.000000 \n",
            "Threshold : 0.210526  TPR : 1.000000  FPR : 1.000000 \n",
            "Threshold : 0.263158  TPR : 1.000000  FPR : 1.000000 \n",
            "Threshold : 0.315789  TPR : 1.000000  FPR : 1.000000 \n",
            "Threshold : 0.368421  TPR : 0.999780  FPR : 0.998709 \n",
            "Threshold : 0.421053  TPR : 0.959297  FPR : 0.876156 \n",
            "Threshold : 0.473684  TPR : 0.744501  FPR : 0.502388 \n",
            "Threshold : 0.526316  TPR : 0.406367  FPR : 0.179999 \n",
            "Threshold : 0.578947  TPR : 0.106915  FPR : 0.028056 \n",
            "Threshold : 0.631579  TPR : 0.010538  FPR : 0.001807 \n",
            "Threshold : 0.684211  TPR : 0.000000  FPR : 0.000000 \n",
            "Threshold : 0.736842  TPR : 0.000000  FPR : 0.000000 \n",
            "Threshold : 0.789474  TPR : 0.000000  FPR : 0.000000 \n",
            "Threshold : 0.842105  TPR : 0.000000  FPR : 0.000000 \n",
            "Threshold : 0.894737  TPR : 0.000000  FPR : 0.000000 \n",
            "Threshold : 0.947368  TPR : 0.000000  FPR : 0.000000 \n",
            "Threshold : 1.000000  TPR : 0.000000  FPR : 0.000000 \n"
          ]
        }
      ],
      "source": [
        "#Create array of TPR/FPR values - Random Forrest\n",
        "rfRoc_values = []\n",
        "for threshold in np.linspace(0, 1, 20):\n",
        "        rfRocDf_prob = rfRocDf_prob.withColumn('prediction',F.when(rfRocDf_prob.positive_prob > threshold,1).otherwise(0))\n",
        "        tp,tn,fp,fn  = confusion_matrix(rfRocDf_prob)\n",
        "        tpr          = tp / (tp + fn)\n",
        "        fpr          = fp / (fp + tn)\n",
        "\n",
        "        print(f'Threshold : {threshold :6.6f}  TPR : { tpr :6.6f}  FPR : {fpr :6.6f} ')\n",
        "\n",
        "        rfRoc_values.append([tpr, fpr])\n",
        "tpr_rf_values, fpr_rf_values = zip(*rfRoc_values)"
      ]
    },
    {
      "cell_type": "code",
      "execution_count": null,
      "metadata": {
        "id": "jPprXnCoRdTK",
        "outputId": "0356da42-9d42-474a-8fd7-f6dcd57c200d"
      },
      "outputs": [
        {
          "name": "stdout",
          "output_type": "stream",
          "text": [
            "Threshold : 0.000000  TPR : 1.000000  FPR : 1.000000 \n",
            "Threshold : 0.052632  TPR : 0.999780  FPR : 0.996299 \n",
            "Threshold : 0.105263  TPR : 0.994951  FPR : 0.976376 \n",
            "Threshold : 0.157895  TPR : 0.983008  FPR : 0.930419 \n",
            "Threshold : 0.210526  TPR : 0.956487  FPR : 0.859202 \n",
            "Threshold : 0.263158  TPR : 0.913106  FPR : 0.766169 \n",
            "Threshold : 0.315789  TPR : 0.853172  FPR : 0.657429 \n",
            "Threshold : 0.368421  TPR : 0.776948  FPR : 0.546452 \n",
            "Threshold : 0.421053  TPR : 0.689791  FPR : 0.441026 \n",
            "Threshold : 0.473684  TPR : 0.606586  FPR : 0.351177 \n",
            "Threshold : 0.526316  TPR : 0.521493  FPR : 0.274754 \n",
            "Threshold : 0.578947  TPR : 0.445928  FPR : 0.210379 \n",
            "Threshold : 0.631579  TPR : 0.375499  FPR : 0.158441 \n",
            "Threshold : 0.684211  TPR : 0.309989  FPR : 0.115237 \n",
            "Threshold : 0.736842  TPR : 0.252909  FPR : 0.083222 \n",
            "Threshold : 0.789474  TPR : 0.197892  FPR : 0.057963 \n",
            "Threshold : 0.842105  TPR : 0.142261  FPR : 0.037781 \n",
            "Threshold : 0.894737  TPR : 0.084391  FPR : 0.019149 \n",
            "Threshold : 0.947368  TPR : 0.026213  FPR : 0.005465 \n",
            "Threshold : 1.000000  TPR : 0.000000  FPR : 0.000000 \n"
          ]
        }
      ],
      "source": [
        "#Create array of TPR/FPR values - Naive Bayes\n",
        "nbRoc_values = []\n",
        "for threshold in np.linspace(0, 1, 20):\n",
        "        nbRocDf_prob = nbRocDf_prob.withColumn('prediction',F.when(nbRocDf_prob.positive_prob > threshold,1).otherwise(0))\n",
        "        tp,tn,fp,fn  = confusion_matrix(nbRocDf_prob)\n",
        "        tpr          = tp / (tp + fn)\n",
        "        fpr          = fp / (fp + tn)\n",
        "\n",
        "        print(f'Threshold : {threshold :6.6f}  TPR : { tpr :6.6f}  FPR : {fpr :6.6f} ')\n",
        "\n",
        "        nbRoc_values.append([tpr, fpr])\n",
        "tpr_nb_values, fpr_nb_values = zip(*nbRoc_values)"
      ]
    },
    {
      "cell_type": "code",
      "execution_count": null,
      "metadata": {
        "id": "tu1QicdRRdTK",
        "outputId": "e4fc8e30-8def-4a99-83e4-896082d969d8"
      },
      "outputs": [
        {
          "name": "stdout",
          "output_type": "stream",
          "text": [
            "Threshold : 0.000000  TPR : 1.000000  FPR : 1.000000 \n",
            "Threshold : 0.052632  TPR : 1.000000  FPR : 0.999139 \n",
            "Threshold : 0.105263  TPR : 0.999737  FPR : 0.996601 \n",
            "Threshold : 0.157895  TPR : 0.997190  FPR : 0.979948 \n",
            "Threshold : 0.210526  TPR : 0.988584  FPR : 0.942596 \n",
            "Threshold : 0.263158  TPR : 0.972206  FPR : 0.877232 \n",
            "Threshold : 0.315789  TPR : 0.932909  FPR : 0.777056 \n",
            "Threshold : 0.368421  TPR : 0.865554  FPR : 0.648522 \n",
            "Threshold : 0.421053  TPR : 0.767464  FPR : 0.506648 \n",
            "Threshold : 0.473684  TPR : 0.655412  FPR : 0.377469 \n",
            "Threshold : 0.526316  TPR : 0.545642  FPR : 0.269203 \n",
            "Threshold : 0.578947  TPR : 0.437102  FPR : 0.184474 \n",
            "Threshold : 0.631579  TPR : 0.327684  FPR : 0.119756 \n",
            "Threshold : 0.684211  TPR : 0.230560  FPR : 0.072034 \n",
            "Threshold : 0.736842  TPR : 0.148628  FPR : 0.038384 \n",
            "Threshold : 0.789474  TPR : 0.088123  FPR : 0.017212 \n",
            "Threshold : 0.842105  TPR : 0.037805  FPR : 0.006885 \n",
            "Threshold : 0.894737  TPR : 0.010231  FPR : 0.001248 \n",
            "Threshold : 0.947368  TPR : 0.000571  FPR : 0.000043 \n",
            "Threshold : 1.000000  TPR : 0.000000  FPR : 0.000000 \n",
            "CPU times: user 139 ms, sys: 30.8 ms, total: 170 ms\n",
            "Wall time: 39.7 s\n"
          ]
        }
      ],
      "source": [
        "%%time\n",
        "#Create array of TPR/FPR values - Logistic Regression\n",
        "lrRoc_values = []\n",
        "for threshold in np.linspace(0, 1, 20):\n",
        "        lrRocDf_prob = lrRocDf_prob.withColumn('prediction',F.when(lrRocDf_prob.positive_prob > threshold,1).otherwise(0))\n",
        "        tp,tn,fp,fn  = confusion_matrix(lrRocDf_prob)\n",
        "        tpr          = tp / (tp + fn)\n",
        "        fpr          = fp / (fp + tn)\n",
        "\n",
        "        print(f'Threshold : {threshold :6.6f}  TPR : { tpr :6.6f}  FPR : {fpr :6.6f} ')\n",
        "\n",
        "        lrRoc_values.append([tpr, fpr])\n",
        "tpr_lr_values, fpr_lr_values = zip(*nbRoc_values)"
      ]
    },
    {
      "cell_type": "code",
      "execution_count": null,
      "metadata": {
        "id": "PgiSlq9TRdTK",
        "outputId": "5161eb91-35a1-4d8f-9235-c8ade764553e"
      },
      "outputs": [
        {
          "data": {
            "image/png": "[encoded data removed]",
            "text/plain": [
              "<Figure size 432x288 with 1 Axes>"
            ]
          },
          "metadata": {
            "needs_background": "light"
          },
          "output_type": "display_data"
        }
      ],
      "source": [
        "import matplotlib.pyplot as plt\n",
        "%matplotlib inline\n",
        "\n",
        "#rTrainingSummary = lrModel.summary\n",
        "#rRoc             = lrTrainingSummary.roc.toPandas()\n",
        "\n",
        "#lt.plot(lrRoc['FPR'],  lrRoc['TPR'],  label = 'lrRoc')\n",
        "plt.plot(fpr_lr_values, tpr_lr_values, label = 'lrRoc')\n",
        "plt.plot(fpr_rf_values, tpr_rf_values, label = 'rfRoc')\n",
        "plt.plot(fpr_dt_values, tpr_dt_values, label = 'dtRoc')\n",
        "plt.plot(fpr_nb_values, tpr_nb_values, label = 'nbRoc')\n",
        "\n",
        "plt.plot([0,1], [0,1], 'r--')\n",
        "\n",
        "plt.ylabel('TPR')\n",
        "plt.xlabel('FPR')\n",
        "plt.title('ROC Curve')\n",
        "plt.legend(bbox_to_anchor=(1.04,0), loc = 'lower left')\n",
        "plt.show()"
      ]
    },
    {
      "cell_type": "markdown",
      "metadata": {
        "id": "Oa_Y2Nj0RdTK"
      },
      "source": [
        "### Extracting Important Features\n",
        "Lets us look at what features are the most important when it comes to decising our models"
      ]
    },
    {
      "cell_type": "code",
      "execution_count": null,
      "metadata": {
        "id": "M5yqrCTfRdTK"
      },
      "outputs": [],
      "source": [
        "import pandas as pd\n",
        "\n",
        "def ExtractFeatureImp(featureImp, dataset, featuresCol):\n",
        "    list_extract = []\n",
        "\n",
        "    for i in dataset.schema[featuresCol].metadata[\"ml_attr\"][\"attrs\"]:\n",
        "        list_extract = list_extract + dataset.schema[featuresCol].metadata[\"ml_attr\"][\"attrs\"][i]\n",
        "\n",
        "    varlist          = pd.DataFrame(list_extract)\n",
        "    varlist['score'] = varlist['idx'].apply(lambda x: featureImp[x])\n",
        "    return(varlist.sort_values('score', ascending = False))\n"
      ]
    },
    {
      "cell_type": "code",
      "execution_count": null,
      "metadata": {
        "id": "v3DIA4_QRdTL",
        "outputId": "2cb8f2f4-a0a2-4579-89b1-bc44d93df4a8"
      },
      "outputs": [
        {
          "data": {
            "text/html": [
              "<div>\n",
              "<style scoped>\n",
              "    .dataframe tbody tr th:only-of-type {\n",
              "        vertical-align: middle;\n",
              "    }\n",
              "\n",
              "    .dataframe tbody tr th {\n",
              "        vertical-align: top;\n",
              "    }\n",
              "\n",
              "    .dataframe thead th {\n",
              "        text-align: right;\n",
              "    }\n",
              "</style>\n",
              "<table border=\"1\" class=\"dataframe\">\n",
              "  <thead>\n",
              "    <tr style=\"text-align: right;\">\n",
              "      <th></th>\n",
              "      <th>idx</th>\n",
              "      <th>name</th>\n",
              "      <th>score</th>\n",
              "    </tr>\n",
              "  </thead>\n",
              "  <tbody>\n",
              "    <tr>\n",
              "      <th>38</th>\n",
              "      <td>25</td>\n",
              "      <td>speedZoneDesc_vec_100 km/h</td>\n",
              "      <td>0.131182</td>\n",
              "    </tr>\n",
              "    <tr>\n",
              "      <th>100</th>\n",
              "      <td>87</td>\n",
              "      <td>driverAgeGroup_vec_70+</td>\n",
              "      <td>0.115115</td>\n",
              "    </tr>\n",
              "    <tr>\n",
              "      <th>53</th>\n",
              "      <td>40</td>\n",
              "      <td>vehicleTypeDesc_vec_Car</td>\n",
              "      <td>0.098076</td>\n",
              "    </tr>\n",
              "    <tr>\n",
              "      <th>23</th>\n",
              "      <td>10</td>\n",
              "      <td>lightConditionDesc_vec_Dark No street lights</td>\n",
              "      <td>0.090000</td>\n",
              "    </tr>\n",
              "    <tr>\n",
              "      <th>74</th>\n",
              "      <td>61</td>\n",
              "      <td>trafficControlDesc_vec_No control</td>\n",
              "      <td>0.073262</td>\n",
              "    </tr>\n",
              "    <tr>\n",
              "      <th>12</th>\n",
              "      <td>194</td>\n",
              "      <td>vehicleYearManuf</td>\n",
              "      <td>0.063194</td>\n",
              "    </tr>\n",
              "    <tr>\n",
              "      <th>20</th>\n",
              "      <td>7</td>\n",
              "      <td>lightConditionDesc_vec_Day</td>\n",
              "      <td>0.058472</td>\n",
              "    </tr>\n",
              "    <tr>\n",
              "      <th>36</th>\n",
              "      <td>23</td>\n",
              "      <td>speedZoneDesc_vec_60 km/h</td>\n",
              "      <td>0.055211</td>\n",
              "    </tr>\n",
              "    <tr>\n",
              "      <th>27</th>\n",
              "      <td>14</td>\n",
              "      <td>roadGeometryDesc_vec_Not at intersection</td>\n",
              "      <td>0.044211</td>\n",
              "    </tr>\n",
              "    <tr>\n",
              "      <th>41</th>\n",
              "      <td>28</td>\n",
              "      <td>speedZoneDesc_vec_40 km/h</td>\n",
              "      <td>0.023720</td>\n",
              "    </tr>\n",
              "  </tbody>\n",
              "</table>\n",
              "</div>"
            ],
            "text/plain": [
              "     idx                                          name     score\n",
              "38    25                    speedZoneDesc_vec_100 km/h  0.131182\n",
              "100   87                        driverAgeGroup_vec_70+  0.115115\n",
              "53    40                       vehicleTypeDesc_vec_Car  0.098076\n",
              "23    10  lightConditionDesc_vec_Dark No street lights  0.090000\n",
              "74    61             trafficControlDesc_vec_No control  0.073262\n",
              "12   194                              vehicleYearManuf  0.063194\n",
              "20     7                    lightConditionDesc_vec_Day  0.058472\n",
              "36    23                     speedZoneDesc_vec_60 km/h  0.055211\n",
              "27    14      roadGeometryDesc_vec_Not at intersection  0.044211\n",
              "41    28                     speedZoneDesc_vec_40 km/h  0.023720"
            ]
          },
          "execution_count": 51,
          "metadata": {},
          "output_type": "execute_result"
        }
      ],
      "source": [
        "ExtractFeatureImp(rfModel.featureImportances,rfPredictions, 'features').head(10)"
      ]
    },
    {
      "cell_type": "code",
      "execution_count": null,
      "metadata": {
        "id": "nOqanNU6RdTL",
        "outputId": "93e0f699-67b5-44f5-d95f-5916c6c3f5a4"
      },
      "outputs": [
        {
          "data": {
            "text/html": [
              "<div>\n",
              "<style scoped>\n",
              "    .dataframe tbody tr th:only-of-type {\n",
              "        vertical-align: middle;\n",
              "    }\n",
              "\n",
              "    .dataframe tbody tr th {\n",
              "        vertical-align: top;\n",
              "    }\n",
              "\n",
              "    .dataframe thead th {\n",
              "        text-align: right;\n",
              "    }\n",
              "</style>\n",
              "<table border=\"1\" class=\"dataframe\">\n",
              "  <thead>\n",
              "    <tr style=\"text-align: right;\">\n",
              "      <th></th>\n",
              "      <th>idx</th>\n",
              "      <th>name</th>\n",
              "      <th>score</th>\n",
              "    </tr>\n",
              "  </thead>\n",
              "  <tbody>\n",
              "    <tr>\n",
              "      <th>38</th>\n",
              "      <td>25</td>\n",
              "      <td>speedZoneDesc_vec_100 km/h</td>\n",
              "      <td>0.319363</td>\n",
              "    </tr>\n",
              "    <tr>\n",
              "      <th>12</th>\n",
              "      <td>194</td>\n",
              "      <td>vehicleYearManuf</td>\n",
              "      <td>0.231337</td>\n",
              "    </tr>\n",
              "    <tr>\n",
              "      <th>100</th>\n",
              "      <td>87</td>\n",
              "      <td>driverAgeGroup_vec_70+</td>\n",
              "      <td>0.209082</td>\n",
              "    </tr>\n",
              "    <tr>\n",
              "      <th>20</th>\n",
              "      <td>7</td>\n",
              "      <td>lightConditionDesc_vec_Day</td>\n",
              "      <td>0.142643</td>\n",
              "    </tr>\n",
              "    <tr>\n",
              "      <th>23</th>\n",
              "      <td>10</td>\n",
              "      <td>lightConditionDesc_vec_Dark No street lights</td>\n",
              "      <td>0.050708</td>\n",
              "    </tr>\n",
              "    <tr>\n",
              "      <th>22</th>\n",
              "      <td>9</td>\n",
              "      <td>lightConditionDesc_vec_Dusk/Dawn</td>\n",
              "      <td>0.024356</td>\n",
              "    </tr>\n",
              "    <tr>\n",
              "      <th>110</th>\n",
              "      <td>97</td>\n",
              "      <td>LGAName_vec_MONASH</td>\n",
              "      <td>0.010731</td>\n",
              "    </tr>\n",
              "    <tr>\n",
              "      <th>53</th>\n",
              "      <td>40</td>\n",
              "      <td>vehicleTypeDesc_vec_Car</td>\n",
              "      <td>0.004439</td>\n",
              "    </tr>\n",
              "    <tr>\n",
              "      <th>27</th>\n",
              "      <td>14</td>\n",
              "      <td>roadGeometryDesc_vec_Not at intersection</td>\n",
              "      <td>0.002453</td>\n",
              "    </tr>\n",
              "    <tr>\n",
              "      <th>113</th>\n",
              "      <td>100</td>\n",
              "      <td>LGAName_vec_HUME</td>\n",
              "      <td>0.001387</td>\n",
              "    </tr>\n",
              "  </tbody>\n",
              "</table>\n",
              "</div>"
            ],
            "text/plain": [
              "     idx                                          name     score\n",
              "38    25                    speedZoneDesc_vec_100 km/h  0.319363\n",
              "12   194                              vehicleYearManuf  0.231337\n",
              "100   87                        driverAgeGroup_vec_70+  0.209082\n",
              "20     7                    lightConditionDesc_vec_Day  0.142643\n",
              "23    10  lightConditionDesc_vec_Dark No street lights  0.050708\n",
              "22     9              lightConditionDesc_vec_Dusk/Dawn  0.024356\n",
              "110   97                            LGAName_vec_MONASH  0.010731\n",
              "53    40                       vehicleTypeDesc_vec_Car  0.004439\n",
              "27    14      roadGeometryDesc_vec_Not at intersection  0.002453\n",
              "113  100                              LGAName_vec_HUME  0.001387"
            ]
          },
          "execution_count": 52,
          "metadata": {},
          "output_type": "execute_result"
        }
      ],
      "source": [
        "ExtractFeatureImp(dtModel.featureImportances,dtPredictions, 'features').head(10)"
      ]
    },
    {
      "cell_type": "markdown",
      "metadata": {
        "id": "ZcNvXGZhRdTL"
      },
      "source": [
        "### Hyperparameter tuning"
      ]
    },
    {
      "cell_type": "code",
      "execution_count": null,
      "metadata": {
        "id": "PQVoDO3zRdTL"
      },
      "outputs": [],
      "source": [
        "from pyspark.ml.tuning     import ParamGridBuilder, CrossValidator,CrossValidatorModel\n",
        "from pyspark.ml.evaluation import BinaryClassificationEvaluator"
      ]
    },
    {
      "cell_type": "code",
      "execution_count": null,
      "metadata": {
        "id": "mLpiPOjuRdTL",
        "outputId": "38a76862-3271-4284-cf8b-8612426d6467"
      },
      "outputs": [
        {
          "data": {
            "text/plain": [
              "{Param(parent='VectorAssembler_a473ecde8d39', name='outputCol', doc='output column name.'): 'features',\n",
              " Param(parent='VectorAssembler_a473ecde8d39', name='handleInvalid', doc=\"How to handle invalid data (NULL and NaN values). Options are 'skip' (filter out rows with invalid data), 'error' (throw an error), or 'keep' (return relevant number of NaN in the output). Column lengths are taken from the size of ML Attribute Group, which can be set using `VectorSizeHint` in a pipeline before `VectorAssembler`. Column lengths can also be inferred from first rows of the data since it is safe to do so but only in case of 'error' or 'skip').\"): 'error',\n",
              " Param(parent='VectorAssembler_a473ecde8d39', name='inputCols', doc='input column names.'): ['dayOfWeekDesc_vec',\n",
              "  'lightConditionDesc_vec',\n",
              "  'roadGeometryDesc_vec',\n",
              "  'speedZoneDesc_vec',\n",
              "  'roadSurfaceTypeDesc_vec',\n",
              "  'vehicleTypeDesc_vec',\n",
              "  'trafficControlDesc_vec',\n",
              "  'driverSex_vec',\n",
              "  'driverAgeGroup_vec',\n",
              "  'LGAName_vec',\n",
              "  'dust',\n",
              "  'fog',\n",
              "  'raining',\n",
              "  'smoke',\n",
              "  'snowing',\n",
              "  'strongWinds',\n",
              "  'icy',\n",
              "  'muddy',\n",
              "  'snowy',\n",
              "  'wet',\n",
              "  'dry',\n",
              "  'clear',\n",
              "  'vehicleYearManuf']}"
            ]
          },
          "execution_count": 54,
          "metadata": {},
          "output_type": "execute_result"
        }
      ],
      "source": [
        "pipelineModel.stages[-1].extractParamMap()"
      ]
    },
    {
      "cell_type": "code",
      "execution_count": null,
      "metadata": {
        "id": "uqHIUL-BRdTM"
      },
      "outputs": [],
      "source": [
        "# Define an evaluator to be used for evaluating the model\n",
        "rfevaluator = BinaryClassificationEvaluator(rawPredictionCol=\"rawPrediction\")"
      ]
    },
    {
      "cell_type": "code",
      "execution_count": null,
      "metadata": {
        "id": "ED7h9Nw8RdTM"
      },
      "outputs": [],
      "source": [
        "# Re-define pipeline for grid search algorithm\n",
        "stage_4 = rf\n",
        "stages = [stage_1,stage_2,stage_3, stage_4]\n",
        "\n",
        "pipeline = Pipeline(stages = stages)\n",
        "\n",
        "train, test = AccidentFinal.randomSplit([0.8, 0.2], seed = 2020)"
      ]
    },
    {
      "cell_type": "markdown",
      "metadata": {
        "id": "h7AOA_sJRdTM"
      },
      "source": [
        "#### Grid search via Cross Validation"
      ]
    },
    {
      "cell_type": "code",
      "execution_count": null,
      "metadata": {
        "id": "2B8VSkj3RdTM"
      },
      "outputs": [],
      "source": [
        "# Create ParamGrid for Cross Validation\n",
        "rfparamGrid = (ParamGridBuilder()\n",
        "             .addGrid(rf.maxDepth, [10,  15, 20])\n",
        "             .addGrid(rf.numTrees, [25, 30])\n",
        "             .build())"
      ]
    },
    {
      "cell_type": "code",
      "execution_count": null,
      "metadata": {
        "id": "_vU1X1KdRdTM"
      },
      "outputs": [],
      "source": [
        "# Create 3-fold CrossValidator\n",
        "rfcv = CrossValidator(\n",
        "    estimator          = pipeline,\n",
        "    estimatorParamMaps = rfparamGrid,\n",
        "    evaluator          = rfevaluator,\n",
        "    numFolds           = 3,\n",
        "    parallelism        = 4)"
      ]
    },
    {
      "cell_type": "code",
      "execution_count": null,
      "metadata": {
        "id": "vNoGslEQRdTM",
        "outputId": "eab42fac-efdf-4661-ec6a-694bb23722dd"
      },
      "outputs": [
        {
          "name": "stdout",
          "output_type": "stream",
          "text": [
            "CrossValidatorModel_e54e111c7127\n"
          ]
        }
      ],
      "source": [
        "# Run cross validations\n",
        "rfcvModel = rfcv.fit(train)\n",
        "print(rfcvModel)"
      ]
    },
    {
      "cell_type": "code",
      "execution_count": null,
      "metadata": {
        "id": "CDLlWCBiRdTN",
        "outputId": "625173eb-27b4-4cb1-c915-0acf66cfeff7"
      },
      "outputs": [
        {
          "name": "stdout",
          "output_type": "stream",
          "text": [
            "[StringIndexerModel: uid=StringIndexer_a7fd664c8a05, handleInvalid=keep, numInputCols=11, numOutputCols=11, OneHotEncoderModel: uid=OneHotEncoder_58419c4376a2, dropLast=true, handleInvalid=error, numInputCols=10, numOutputCols=10, VectorAssembler_a473ecde8d39, RandomForestClassificationModel: uid=RandomForestClassifier_d3ef7606c1bb, numTrees=30, numClasses=3, numFeatures=195]\n",
            "Best Param for Random Forest:  {\n",
            "\tRandomForestClassifier_d3ef7606c1bb-featuresCol: features,\n",
            "\tRandomForestClassifier_d3ef7606c1bb-labelCol: label,\n",
            "\tRandomForestClassifier_d3ef7606c1bb-maxDepth: 20,\n",
            "\tRandomForestClassifier_d3ef7606c1bb-numTrees: 30,\n",
            "\tRandomForestClassifier_d3ef7606c1bb-seed: 2020\n",
            "}\n"
          ]
        }
      ],
      "source": [
        "#Getting the best model and the optimum parameters selected from the Cross Validation\n",
        "bestRfModel= rfcvModel.bestModel\n",
        "print(bestRfModel.stages)\n",
        "print('Best Param for Random Forest: ', bestRfModel.stages[-1]._java_obj.paramMap())"
      ]
    },
    {
      "cell_type": "code",
      "execution_count": null,
      "metadata": {
        "id": "_7rlygpJRdTN"
      },
      "outputs": [],
      "source": [
        "bestRfPredict = bestRfModel.transform(test)"
      ]
    },
    {
      "cell_type": "code",
      "execution_count": null,
      "metadata": {
        "id": "ymWeM45URdTN",
        "outputId": "e87907e0-027f-42fa-b07e-65c0001d2a88"
      },
      "outputs": [
        {
          "name": "stdout",
          "output_type": "stream",
          "text": [
            "-------------------------\n",
            "Predict    Label   Count\n",
            "-------------------------\n",
            "   0         0     16831\n",
            "   1         1     15008\n",
            "   0         1     7767\n",
            "   1         0     6408\n",
            "\n",
            "\n",
            "Accuracy : 0.692\n",
            "Precision: 0.701\n",
            "Recall   : 0.659\n",
            "F1       : 0.679\n"
          ]
        },
        {
          "data": {
            "text/plain": [
              "(0.6919415829964793,\n",
              " 0.7007844602166604,\n",
              " 0.6589681668496158,\n",
              " 0.6792333280532235)"
            ]
          },
          "execution_count": 62,
          "metadata": {},
          "output_type": "execute_result"
        }
      ],
      "source": [
        "compute_metrics(bestRfPredict)"
      ]
    },
    {
      "cell_type": "code",
      "execution_count": null,
      "metadata": {
        "id": "TWvFVEOMRdTN",
        "outputId": "1b1673fb-2a2c-44b9-95f4-4aebeec55ca3"
      },
      "outputs": [
        {
          "data": {
            "text/html": [
              "<div>\n",
              "<style scoped>\n",
              "    .dataframe tbody tr th:only-of-type {\n",
              "        vertical-align: middle;\n",
              "    }\n",
              "\n",
              "    .dataframe tbody tr th {\n",
              "        vertical-align: top;\n",
              "    }\n",
              "\n",
              "    .dataframe thead th {\n",
              "        text-align: right;\n",
              "    }\n",
              "</style>\n",
              "<table border=\"1\" class=\"dataframe\">\n",
              "  <thead>\n",
              "    <tr style=\"text-align: right;\">\n",
              "      <th></th>\n",
              "      <th>idx</th>\n",
              "      <th>name</th>\n",
              "      <th>score</th>\n",
              "    </tr>\n",
              "  </thead>\n",
              "  <tbody>\n",
              "    <tr>\n",
              "      <th>12</th>\n",
              "      <td>194</td>\n",
              "      <td>vehicleYearManuf</td>\n",
              "      <td>0.115466</td>\n",
              "    </tr>\n",
              "    <tr>\n",
              "      <th>37</th>\n",
              "      <td>24</td>\n",
              "      <td>speedZoneDesc_vec_100 km/h</td>\n",
              "      <td>0.076384</td>\n",
              "    </tr>\n",
              "    <tr>\n",
              "      <th>100</th>\n",
              "      <td>87</td>\n",
              "      <td>driverAgeGroup_vec_70+</td>\n",
              "      <td>0.059878</td>\n",
              "    </tr>\n",
              "    <tr>\n",
              "      <th>23</th>\n",
              "      <td>10</td>\n",
              "      <td>lightConditionDesc_vec_Dark No street lights</td>\n",
              "      <td>0.037096</td>\n",
              "    </tr>\n",
              "    <tr>\n",
              "      <th>20</th>\n",
              "      <td>7</td>\n",
              "      <td>lightConditionDesc_vec_Day</td>\n",
              "      <td>0.036200</td>\n",
              "    </tr>\n",
              "    <tr>\n",
              "      <th>53</th>\n",
              "      <td>40</td>\n",
              "      <td>vehicleTypeDesc_vec_Car</td>\n",
              "      <td>0.032515</td>\n",
              "    </tr>\n",
              "    <tr>\n",
              "      <th>74</th>\n",
              "      <td>61</td>\n",
              "      <td>trafficControlDesc_vec_No control</td>\n",
              "      <td>0.025818</td>\n",
              "    </tr>\n",
              "    <tr>\n",
              "      <th>36</th>\n",
              "      <td>23</td>\n",
              "      <td>speedZoneDesc_vec_60 km/h</td>\n",
              "      <td>0.021287</td>\n",
              "    </tr>\n",
              "    <tr>\n",
              "      <th>21</th>\n",
              "      <td>8</td>\n",
              "      <td>lightConditionDesc_vec_Dark Street lights on</td>\n",
              "      <td>0.020580</td>\n",
              "    </tr>\n",
              "    <tr>\n",
              "      <th>27</th>\n",
              "      <td>14</td>\n",
              "      <td>roadGeometryDesc_vec_Not at intersection</td>\n",
              "      <td>0.018552</td>\n",
              "    </tr>\n",
              "  </tbody>\n",
              "</table>\n",
              "</div>"
            ],
            "text/plain": [
              "     idx                                          name     score\n",
              "12   194                              vehicleYearManuf  0.115466\n",
              "37    24                    speedZoneDesc_vec_100 km/h  0.076384\n",
              "100   87                        driverAgeGroup_vec_70+  0.059878\n",
              "23    10  lightConditionDesc_vec_Dark No street lights  0.037096\n",
              "20     7                    lightConditionDesc_vec_Day  0.036200\n",
              "53    40                       vehicleTypeDesc_vec_Car  0.032515\n",
              "74    61             trafficControlDesc_vec_No control  0.025818\n",
              "36    23                     speedZoneDesc_vec_60 km/h  0.021287\n",
              "21     8  lightConditionDesc_vec_Dark Street lights on  0.020580\n",
              "27    14      roadGeometryDesc_vec_Not at intersection  0.018552"
            ]
          },
          "execution_count": 63,
          "metadata": {},
          "output_type": "execute_result"
        }
      ],
      "source": [
        "# Extract the important feature of the best model - top 10\n",
        "ExtractFeatureImp(bestRfModel.stages[-1].featureImportances,bestRfPredict, 'features').head(10)"
      ]
    },
    {
      "cell_type": "code",
      "execution_count": null,
      "metadata": {
        "id": "V9rESDPFRdTN",
        "outputId": "65a6f367-477b-45fa-d387-e462e26dee50"
      },
      "outputs": [
        {
          "data": {
            "text/html": [
              "<div>\n",
              "<style scoped>\n",
              "    .dataframe tbody tr th:only-of-type {\n",
              "        vertical-align: middle;\n",
              "    }\n",
              "\n",
              "    .dataframe tbody tr th {\n",
              "        vertical-align: top;\n",
              "    }\n",
              "\n",
              "    .dataframe thead th {\n",
              "        text-align: right;\n",
              "    }\n",
              "</style>\n",
              "<table border=\"1\" class=\"dataframe\">\n",
              "  <thead>\n",
              "    <tr style=\"text-align: right;\">\n",
              "      <th></th>\n",
              "      <th>idx</th>\n",
              "      <th>name</th>\n",
              "      <th>score</th>\n",
              "    </tr>\n",
              "  </thead>\n",
              "  <tbody>\n",
              "    <tr>\n",
              "      <th>12</th>\n",
              "      <td>194</td>\n",
              "      <td>vehicleYearManuf</td>\n",
              "      <td>0.115466</td>\n",
              "    </tr>\n",
              "    <tr>\n",
              "      <th>37</th>\n",
              "      <td>24</td>\n",
              "      <td>speedZoneDesc_vec_100 km/h</td>\n",
              "      <td>0.076384</td>\n",
              "    </tr>\n",
              "    <tr>\n",
              "      <th>100</th>\n",
              "      <td>87</td>\n",
              "      <td>driverAgeGroup_vec_70+</td>\n",
              "      <td>0.059878</td>\n",
              "    </tr>\n",
              "    <tr>\n",
              "      <th>23</th>\n",
              "      <td>10</td>\n",
              "      <td>lightConditionDesc_vec_Dark No street lights</td>\n",
              "      <td>0.037096</td>\n",
              "    </tr>\n",
              "    <tr>\n",
              "      <th>20</th>\n",
              "      <td>7</td>\n",
              "      <td>lightConditionDesc_vec_Day</td>\n",
              "      <td>0.036200</td>\n",
              "    </tr>\n",
              "    <tr>\n",
              "      <th>53</th>\n",
              "      <td>40</td>\n",
              "      <td>vehicleTypeDesc_vec_Car</td>\n",
              "      <td>0.032515</td>\n",
              "    </tr>\n",
              "    <tr>\n",
              "      <th>74</th>\n",
              "      <td>61</td>\n",
              "      <td>trafficControlDesc_vec_No control</td>\n",
              "      <td>0.025818</td>\n",
              "    </tr>\n",
              "    <tr>\n",
              "      <th>36</th>\n",
              "      <td>23</td>\n",
              "      <td>speedZoneDesc_vec_60 km/h</td>\n",
              "      <td>0.021287</td>\n",
              "    </tr>\n",
              "    <tr>\n",
              "      <th>21</th>\n",
              "      <td>8</td>\n",
              "      <td>lightConditionDesc_vec_Dark Street lights on</td>\n",
              "      <td>0.020580</td>\n",
              "    </tr>\n",
              "    <tr>\n",
              "      <th>27</th>\n",
              "      <td>14</td>\n",
              "      <td>roadGeometryDesc_vec_Not at intersection</td>\n",
              "      <td>0.018552</td>\n",
              "    </tr>\n",
              "    <tr>\n",
              "      <th>41</th>\n",
              "      <td>28</td>\n",
              "      <td>speedZoneDesc_vec_40 km/h</td>\n",
              "      <td>0.016258</td>\n",
              "    </tr>\n",
              "    <tr>\n",
              "      <th>107</th>\n",
              "      <td>94</td>\n",
              "      <td>LGAName_vec_MELBOURNE</td>\n",
              "      <td>0.015616</td>\n",
              "    </tr>\n",
              "    <tr>\n",
              "      <th>19</th>\n",
              "      <td>6</td>\n",
              "      <td>dayOfWeekDesc_vec_Sunday</td>\n",
              "      <td>0.011993</td>\n",
              "    </tr>\n",
              "    <tr>\n",
              "      <th>92</th>\n",
              "      <td>79</td>\n",
              "      <td>driverSex_vec_F</td>\n",
              "      <td>0.011525</td>\n",
              "    </tr>\n",
              "    <tr>\n",
              "      <th>91</th>\n",
              "      <td>78</td>\n",
              "      <td>driverSex_vec_M</td>\n",
              "      <td>0.011374</td>\n",
              "    </tr>\n",
              "    <tr>\n",
              "      <th>28</th>\n",
              "      <td>15</td>\n",
              "      <td>roadGeometryDesc_vec_Cross intersection</td>\n",
              "      <td>0.011092</td>\n",
              "    </tr>\n",
              "    <tr>\n",
              "      <th>75</th>\n",
              "      <td>62</td>\n",
              "      <td>trafficControlDesc_vec_Stop-go lights</td>\n",
              "      <td>0.010853</td>\n",
              "    </tr>\n",
              "    <tr>\n",
              "      <th>94</th>\n",
              "      <td>81</td>\n",
              "      <td>driverAgeGroup_vec_30-39</td>\n",
              "      <td>0.010498</td>\n",
              "    </tr>\n",
              "    <tr>\n",
              "      <th>39</th>\n",
              "      <td>26</td>\n",
              "      <td>speedZoneDesc_vec_50 km/h</td>\n",
              "      <td>0.009893</td>\n",
              "    </tr>\n",
              "    <tr>\n",
              "      <th>54</th>\n",
              "      <td>41</td>\n",
              "      <td>vehicleTypeDesc_vec_Station Wagon</td>\n",
              "      <td>0.009709</td>\n",
              "    </tr>\n",
              "    <tr>\n",
              "      <th>29</th>\n",
              "      <td>16</td>\n",
              "      <td>roadGeometryDesc_vec_T intersection</td>\n",
              "      <td>0.009699</td>\n",
              "    </tr>\n",
              "    <tr>\n",
              "      <th>17</th>\n",
              "      <td>4</td>\n",
              "      <td>dayOfWeekDesc_vec_Saturday</td>\n",
              "      <td>0.009600</td>\n",
              "    </tr>\n",
              "    <tr>\n",
              "      <th>38</th>\n",
              "      <td>25</td>\n",
              "      <td>speedZoneDesc_vec_80 km/h</td>\n",
              "      <td>0.008944</td>\n",
              "    </tr>\n",
              "    <tr>\n",
              "      <th>95</th>\n",
              "      <td>82</td>\n",
              "      <td>driverAgeGroup_vec_40-49</td>\n",
              "      <td>0.008355</td>\n",
              "    </tr>\n",
              "    <tr>\n",
              "      <th>14</th>\n",
              "      <td>1</td>\n",
              "      <td>dayOfWeekDesc_vec_Thursday</td>\n",
              "      <td>0.008249</td>\n",
              "    </tr>\n",
              "  </tbody>\n",
              "</table>\n",
              "</div>"
            ],
            "text/plain": [
              "     idx                                          name     score\n",
              "12   194                              vehicleYearManuf  0.115466\n",
              "37    24                    speedZoneDesc_vec_100 km/h  0.076384\n",
              "100   87                        driverAgeGroup_vec_70+  0.059878\n",
              "23    10  lightConditionDesc_vec_Dark No street lights  0.037096\n",
              "20     7                    lightConditionDesc_vec_Day  0.036200\n",
              "53    40                       vehicleTypeDesc_vec_Car  0.032515\n",
              "74    61             trafficControlDesc_vec_No control  0.025818\n",
              "36    23                     speedZoneDesc_vec_60 km/h  0.021287\n",
              "21     8  lightConditionDesc_vec_Dark Street lights on  0.020580\n",
              "27    14      roadGeometryDesc_vec_Not at intersection  0.018552\n",
              "41    28                     speedZoneDesc_vec_40 km/h  0.016258\n",
              "107   94                         LGAName_vec_MELBOURNE  0.015616\n",
              "19     6                      dayOfWeekDesc_vec_Sunday  0.011993\n",
              "92    79                               driverSex_vec_F  0.011525\n",
              "91    78                               driverSex_vec_M  0.011374\n",
              "28    15       roadGeometryDesc_vec_Cross intersection  0.011092\n",
              "75    62         trafficControlDesc_vec_Stop-go lights  0.010853\n",
              "94    81                      driverAgeGroup_vec_30-39  0.010498\n",
              "39    26                     speedZoneDesc_vec_50 km/h  0.009893\n",
              "54    41             vehicleTypeDesc_vec_Station Wagon  0.009709\n",
              "29    16           roadGeometryDesc_vec_T intersection  0.009699\n",
              "17     4                    dayOfWeekDesc_vec_Saturday  0.009600\n",
              "38    25                     speedZoneDesc_vec_80 km/h  0.008944\n",
              "95    82                      driverAgeGroup_vec_40-49  0.008355\n",
              "14     1                    dayOfWeekDesc_vec_Thursday  0.008249"
            ]
          },
          "execution_count": 64,
          "metadata": {},
          "output_type": "execute_result"
        }
      ],
      "source": [
        "# Extract the important feature of the best model - top 25\n",
        "ExtractFeatureImp(bestRfModel.stages[-1].featureImportances,bestRfPredict, 'features').head(25)"
      ]
    },
    {
      "cell_type": "markdown",
      "metadata": {
        "id": "NPtJA4WoRdTN"
      },
      "source": [
        "# Sample Data Testing\n",
        "Testing the pipline to input new data (for example if there was 2021 data) to show that the model can be used for new data.   To simulate this we are using the original datafile and sampling rows at random to simulate this."
      ]
    },
    {
      "cell_type": "markdown",
      "metadata": {
        "id": "uEG45lvzRdTN"
      },
      "source": [
        "### Create Sample Data"
      ]
    },
    {
      "cell_type": "code",
      "execution_count": null,
      "metadata": {
        "id": "pqWDqPvsRdTO"
      },
      "outputs": [],
      "source": [
        "AccidentSample = []\n",
        "#Load AccidentFinal Data\n",
        "# Read in the accident data as dataframe\n",
        "AccidentSample = spark.read.format('csv')\\\n",
        "                     .option('header',True)\\\n",
        "                     .option('escape','\"')\\\n",
        "                     .option('inferSchema',True)\\\n",
        "                     .load('AccidentFinal.csv')"
      ]
    },
    {
      "cell_type": "markdown",
      "metadata": {
        "id": "KyNHrdQ2RdTO"
      },
      "source": [
        "### Feature Engineering"
      ]
    },
    {
      "cell_type": "code",
      "execution_count": null,
      "metadata": {
        "id": "yA_jl8QHRdTO",
        "outputId": "956ab3b5-6edd-4b87-8282-349e07be0caa"
      },
      "outputs": [
        {
          "data": {
            "text/plain": [
              "11"
            ]
          },
          "execution_count": 66,
          "metadata": {},
          "output_type": "execute_result"
        }
      ],
      "source": [
        "# Sample the data with 10 rows\n",
        "sample_Data , sample_Notinuse = AccidentSample.randomSplit([0.00002, 0.99998], seed = 20)\n",
        "sample_Data.count()"
      ]
    },
    {
      "cell_type": "code",
      "execution_count": null,
      "metadata": {
        "id": "TVx4Anz1RdTO"
      },
      "outputs": [],
      "source": [
        "# Create function to convert variable\n",
        "y_udf = udf(lambda y: 1 if y == '1' or y == '2' else 0)\n",
        "# Apply user defined function and drop old column\n",
        "sample_Data = sample_Data.withColumn('severeAccident', y_udf('maxInjuryLevel')).drop('maxInjuryLevel')"
      ]
    },
    {
      "cell_type": "code",
      "execution_count": null,
      "metadata": {
        "id": "wbn5whTlRdTO"
      },
      "outputs": [],
      "source": [
        "## Dropping Columns\n",
        "sample_Data = sample_Data.drop('accidentDate','accidentTime', 'DCACode', 'numVehicles',\n",
        "                                   'numPersons','numPersonsInj2', 'numPersonsInj3', \"speedZone\",\n",
        "                                   'numPersonsKilled', 'numPersonsNotInj', 'accidentDateOnly', 'accidentTimeOnly',\n",
        "                                   'accidentDateTime', 'roadSurfaceType', 'driverAge', 'trafficControl', 'vehicleType',\n",
        "                                   'fuelType','traffic Control','regionName','postCode','nodeTypeDesc',\n",
        "                                   'accidentSeverityDesc', 'accidentSeverity', 'totalNoOccupants', 'DCADescription',\n",
        "                                  'isPedestrian', 'vehicleMovement', 'eventTypeDesc', 'accidentTypeDesc',\n",
        "                                   'levelOfDamage',\n",
        "                                  )"
      ]
    },
    {
      "cell_type": "code",
      "execution_count": null,
      "metadata": {
        "id": "hJBBnZ8GRdTO"
      },
      "outputs": [],
      "source": [
        "# Change data type\n",
        "sample_Data = sample_Data.withColumn (\"dust\", sample_Data.dust.cast(\"Int\"))\\\n",
        "                             .withColumn (\"fog\", sample_Data.fog.cast(\"Int\") )\\\n",
        "                             .withColumn (\"raining\", sample_Data.raining.cast(\"Int\") )\\\n",
        "                             .withColumn (\"smoke\", sample_Data.smoke.cast(\"Int\") )\\\n",
        "                             .withColumn (\"snowing\", sample_Data.snowing.cast(\"Int\") )\\\n",
        "                             .withColumn (\"strongWinds\", sample_Data. strongWinds.cast(\"Int\") ) \\\n",
        "                             .withColumn (\"icy\", sample_Data.icy.cast(\"Int\") )\\\n",
        "                             .withColumn (\"muddy\", sample_Data.muddy.cast(\"Int\") )\\\n",
        "                             .withColumn (\"snowy\", sample_Data.snowy.cast(\"Int\") )  \\\n",
        "                             .withColumn (\"wet\", sample_Data.wet.cast(\"Int\") )\\\n",
        "                             .withColumn (\"dry\", sample_Data.dry.cast(\"Int\") ) \\\n",
        "                             .withColumn (\"clear\", sample_Data.clear.cast(\"Int\") )\\\n",
        "                             .withColumn (\"vehicleYearManuf\", sample_Data.vehicleYearManuf.cast(\"Int\"))\\\n",
        "                             .withColumn (\"severeAccident\", sample_Data.severeAccident.cast(\"Int\"))\\\n",
        "                             .cache()"
      ]
    },
    {
      "cell_type": "code",
      "execution_count": null,
      "metadata": {
        "id": "t3MbshXNRdTO"
      },
      "outputs": [],
      "source": [
        "#Remove rows with Null value\n",
        "#sample_Data = AccidentSample.na.drop()"
      ]
    },
    {
      "cell_type": "code",
      "execution_count": null,
      "metadata": {
        "id": "a93UNF-WRdTP",
        "outputId": "3dfb0600-5543-4ab4-f2d0-ad04a5002b23"
      },
      "outputs": [
        {
          "name": "stdout",
          "output_type": "stream",
          "text": [
            "-RECORD 0-----------------------------------\n",
            " dayOfWeekDesc       | Wednesday            \n",
            " lightConditionDesc  | Day                  \n",
            " roadGeometryDesc    | Cross intersection   \n",
            " speedZoneDesc       | 50 km/h              \n",
            " dust                | 0                    \n",
            " fog                 | 0                    \n",
            " raining             | 0                    \n",
            " smoke               | 0                    \n",
            " snowing             | 0                    \n",
            " strongWinds         | 0                    \n",
            " icy                 | 0                    \n",
            " muddy               | 0                    \n",
            " snowy               | 0                    \n",
            " wet                 | 0                    \n",
            " dry                 | 1                    \n",
            " clear               | 1                    \n",
            " vehicleYearManuf    | 2012                 \n",
            " roadSurfaceTypeDesc | Paved                \n",
            " vehicleTypeDesc     | Station Wagon        \n",
            " trafficControlDesc  | Giveway sign         \n",
            " driverSex           | F                    \n",
            " driverAgeGroup      | 26-29                \n",
            " LGAName             | CENTRAL GOLDFIELDS   \n",
            " severeAccident      | 0                    \n",
            "-RECORD 1-----------------------------------\n",
            " dayOfWeekDesc       | Saturday             \n",
            " lightConditionDesc  | Day                  \n",
            " roadGeometryDesc    | Cross intersection   \n",
            " speedZoneDesc       | 50 km/h              \n",
            " dust                | 0                    \n",
            " fog                 | 0                    \n",
            " raining             | 0                    \n",
            " smoke               | 0                    \n",
            " snowing             | 0                    \n",
            " strongWinds         | 0                    \n",
            " icy                 | 0                    \n",
            " muddy               | 0                    \n",
            " snowy               | 0                    \n",
            " wet                 | 0                    \n",
            " dry                 | 1                    \n",
            " clear               | 1                    \n",
            " vehicleYearManuf    | 2008                 \n",
            " roadSurfaceTypeDesc | Paved                \n",
            " vehicleTypeDesc     | Car                  \n",
            " trafficControlDesc  | Stop-go lights       \n",
            " driverSex           | M                    \n",
            " driverAgeGroup      | 17-21                \n",
            " LGAName             | COLAC OTWAY          \n",
            " severeAccident      | 0                    \n",
            "-RECORD 2-----------------------------------\n",
            " dayOfWeekDesc       | Tuesday              \n",
            " lightConditionDesc  | Day                  \n",
            " roadGeometryDesc    | Not at intersection  \n",
            " speedZoneDesc       | 100 km/h             \n",
            " dust                | 0                    \n",
            " fog                 | 0                    \n",
            " raining             | 0                    \n",
            " smoke               | 0                    \n",
            " snowing             | 0                    \n",
            " strongWinds         | 0                    \n",
            " icy                 | 0                    \n",
            " muddy               | 0                    \n",
            " snowy               | 0                    \n",
            " wet                 | 0                    \n",
            " dry                 | 1                    \n",
            " clear               | 1                    \n",
            " vehicleYearManuf    | 1994                 \n",
            " roadSurfaceTypeDesc | Paved                \n",
            " vehicleTypeDesc     | Car                  \n",
            " trafficControlDesc  | No control           \n",
            " driverSex           | F                    \n",
            " driverAgeGroup      | 16-17                \n",
            " LGAName             | HORSHAM              \n",
            " severeAccident      | 0                    \n",
            "-RECORD 3-----------------------------------\n",
            " dayOfWeekDesc       | Tuesday              \n",
            " lightConditionDesc  | Day                  \n",
            " roadGeometryDesc    | Not at intersection  \n",
            " speedZoneDesc       | 50 km/h              \n",
            " dust                | 0                    \n",
            " fog                 | 0                    \n",
            " raining             | 0                    \n",
            " smoke               | 0                    \n",
            " snowing             | 0                    \n",
            " strongWinds         | 0                    \n",
            " icy                 | 0                    \n",
            " muddy               | 0                    \n",
            " snowy               | 0                    \n",
            " wet                 | 0                    \n",
            " dry                 | 1                    \n",
            " clear               | 1                    \n",
            " vehicleYearManuf    | 2009                 \n",
            " roadSurfaceTypeDesc | Paved                \n",
            " vehicleTypeDesc     | Utility              \n",
            " trafficControlDesc  | No control           \n",
            " driverSex           | M                    \n",
            " driverAgeGroup      | 30-39                \n",
            " LGAName             | MELBOURNE            \n",
            " severeAccident      | 0                    \n",
            "-RECORD 4-----------------------------------\n",
            " dayOfWeekDesc       | Thursday             \n",
            " lightConditionDesc  | Dark No street li... \n",
            " roadGeometryDesc    | Not at intersection  \n",
            " speedZoneDesc       | 50 km/h              \n",
            " dust                | 0                    \n",
            " fog                 | 0                    \n",
            " raining             | 0                    \n",
            " smoke               | 0                    \n",
            " snowing             | 0                    \n",
            " strongWinds         | 0                    \n",
            " icy                 | 0                    \n",
            " muddy               | 0                    \n",
            " snowy               | 0                    \n",
            " wet                 | 0                    \n",
            " dry                 | 1                    \n",
            " clear               | 1                    \n",
            " vehicleYearManuf    | 2009                 \n",
            " roadSurfaceTypeDesc | Paved                \n",
            " vehicleTypeDesc     | Utility              \n",
            " trafficControlDesc  | No control           \n",
            " driverSex           | F                    \n",
            " driverAgeGroup      | 17-21                \n",
            " LGAName             | CAMPASPE             \n",
            " severeAccident      | 1                    \n",
            "-RECORD 5-----------------------------------\n",
            " dayOfWeekDesc       | Tuesday              \n",
            " lightConditionDesc  | Dark Street light... \n",
            " roadGeometryDesc    | Cross intersection   \n",
            " speedZoneDesc       | 70 km/h              \n",
            " dust                | 0                    \n",
            " fog                 | 0                    \n",
            " raining             | 1                    \n",
            " smoke               | 0                    \n",
            " snowing             | 0                    \n",
            " strongWinds         | 0                    \n",
            " icy                 | 0                    \n",
            " muddy               | 0                    \n",
            " snowy               | 0                    \n",
            " wet                 | 1                    \n",
            " dry                 | 0                    \n",
            " clear               | 0                    \n",
            " vehicleYearManuf    | 1995                 \n",
            " roadSurfaceTypeDesc | Paved                \n",
            " vehicleTypeDesc     | Car                  \n",
            " trafficControlDesc  | Stop-go lights       \n",
            " driverSex           | F                    \n",
            " driverAgeGroup      | 17-21                \n",
            " LGAName             | WHITEHORSE           \n",
            " severeAccident      | 0                    \n",
            "-RECORD 6-----------------------------------\n",
            " dayOfWeekDesc       | Monday               \n",
            " lightConditionDesc  | Day                  \n",
            " roadGeometryDesc    | Not at intersection  \n",
            " speedZoneDesc       | 80 km/h              \n",
            " dust                | 0                    \n",
            " fog                 | 0                    \n",
            " raining             | 1                    \n",
            " smoke               | 0                    \n",
            " snowing             | 0                    \n",
            " strongWinds         | 0                    \n",
            " icy                 | 0                    \n",
            " muddy               | 0                    \n",
            " snowy               | 0                    \n",
            " wet                 | 1                    \n",
            " dry                 | 0                    \n",
            " clear               | 0                    \n",
            " vehicleYearManuf    | 2010                 \n",
            " roadSurfaceTypeDesc | Paved                \n",
            " vehicleTypeDesc     | Car                  \n",
            " trafficControlDesc  | Giveway sign         \n",
            " driverSex           | M                    \n",
            " driverAgeGroup      | 30-39                \n",
            " LGAName             | CASEY                \n",
            " severeAccident      | 0                    \n",
            "-RECORD 7-----------------------------------\n",
            " dayOfWeekDesc       | Monday               \n",
            " lightConditionDesc  | Day                  \n",
            " roadGeometryDesc    | T intersection       \n",
            " speedZoneDesc       | 60 km/h              \n",
            " dust                | 0                    \n",
            " fog                 | 0                    \n",
            " raining             | 0                    \n",
            " smoke               | 0                    \n",
            " snowing             | 0                    \n",
            " strongWinds         | 0                    \n",
            " icy                 | 0                    \n",
            " muddy               | 0                    \n",
            " snowy               | 0                    \n",
            " wet                 | 0                    \n",
            " dry                 | 1                    \n",
            " clear               | 1                    \n",
            " vehicleYearManuf    | 1998                 \n",
            " roadSurfaceTypeDesc | Paved                \n",
            " vehicleTypeDesc     | Station Wagon        \n",
            " trafficControlDesc  | Giveway sign         \n",
            " driverSex           | M                    \n",
            " driverAgeGroup      | 40-49                \n",
            " LGAName             | YARRA                \n",
            " severeAccident      | 0                    \n",
            "-RECORD 8-----------------------------------\n",
            " dayOfWeekDesc       | Wednesday            \n",
            " lightConditionDesc  | Day                  \n",
            " roadGeometryDesc    | Cross intersection   \n",
            " speedZoneDesc       | 70 km/h              \n",
            " dust                | 0                    \n",
            " fog                 | 0                    \n",
            " raining             | 0                    \n",
            " smoke               | 0                    \n",
            " snowing             | 0                    \n",
            " strongWinds         | 0                    \n",
            " icy                 | 0                    \n",
            " muddy               | 0                    \n",
            " snowy               | 0                    \n",
            " wet                 | 0                    \n",
            " dry                 | 1                    \n",
            " clear               | 1                    \n",
            " vehicleYearManuf    | 2014                 \n",
            " roadSurfaceTypeDesc | Paved                \n",
            " vehicleTypeDesc     | Utility              \n",
            " trafficControlDesc  | Stop-go lights       \n",
            " driverSex           | M                    \n",
            " driverAgeGroup      | 40-49                \n",
            " LGAName             | HUME                 \n",
            " severeAccident      | 0                    \n",
            "-RECORD 9-----------------------------------\n",
            " dayOfWeekDesc       | Monday               \n",
            " lightConditionDesc  | Dark Street light... \n",
            " roadGeometryDesc    | Cross intersection   \n",
            " speedZoneDesc       | 60 km/h              \n",
            " dust                | 0                    \n",
            " fog                 | 0                    \n",
            " raining             | 0                    \n",
            " smoke               | 0                    \n",
            " snowing             | 0                    \n",
            " strongWinds         | 0                    \n",
            " icy                 | 0                    \n",
            " muddy               | 0                    \n",
            " snowy               | 0                    \n",
            " wet                 | 0                    \n",
            " dry                 | 1                    \n",
            " clear               | 1                    \n",
            " vehicleYearManuf    | 2002                 \n",
            " roadSurfaceTypeDesc | Paved                \n",
            " vehicleTypeDesc     | Car                  \n",
            " trafficControlDesc  | Stop-go lights       \n",
            " driverSex           | F                    \n",
            " driverAgeGroup      | 22-25                \n",
            " LGAName             | WYNDHAM              \n",
            " severeAccident      | 0                    \n",
            "-RECORD 10----------------------------------\n",
            " dayOfWeekDesc       | Sunday               \n",
            " lightConditionDesc  | Day                  \n",
            " roadGeometryDesc    | Not at intersection  \n",
            " speedZoneDesc       | 60 km/h              \n",
            " dust                | 0                    \n",
            " fog                 | 0                    \n",
            " raining             | 0                    \n",
            " smoke               | 0                    \n",
            " snowing             | 0                    \n",
            " strongWinds         | 0                    \n",
            " icy                 | 0                    \n",
            " muddy               | 0                    \n",
            " snowy               | 0                    \n",
            " wet                 | 0                    \n",
            " dry                 | 1                    \n",
            " clear               | 1                    \n",
            " vehicleYearManuf    | 2008                 \n",
            " roadSurfaceTypeDesc | Paved                \n",
            " vehicleTypeDesc     | Station Wagon        \n",
            " trafficControlDesc  | Stop-go lights       \n",
            " driverSex           | M                    \n",
            " driverAgeGroup      | 40-49                \n",
            " LGAName             | YARRA                \n",
            " severeAccident      | 0                    \n",
            "\n"
          ]
        }
      ],
      "source": [
        "# Display all data\n",
        "sample_Data.show(vertical=True)"
      ]
    },
    {
      "cell_type": "markdown",
      "metadata": {
        "id": "JB7Ex_-zRdTP"
      },
      "source": [
        "### Run Pipeline + Random Forest Model"
      ]
    },
    {
      "cell_type": "code",
      "execution_count": null,
      "metadata": {
        "id": "0zrPwmAQRdTP",
        "outputId": "627f7696-2f4f-404c-eca0-b956d8172302"
      },
      "outputs": [
        {
          "name": "stdout",
          "output_type": "stream",
          "text": [
            "+--------------------+-----+----------+--------------------+\n",
            "|            features|label|prediction|         probability|\n",
            "+--------------------+-----+----------+--------------------+\n",
            "|(195,[2,7,15,26,3...|  0.0|       0.0|[0.72657387732322...|\n",
            "|(195,[4,7,15,26,3...|  0.0|       0.0|[0.74779606490603...|\n",
            "|(195,[3,7,14,24,3...|  0.0|       1.0|[0.29268007600882...|\n",
            "|(195,[3,7,14,26,3...|  0.0|       0.0|[0.74293724215331...|\n",
            "|(195,[1,10,14,26,...|  1.0|       1.0|[0.36328143852638...|\n",
            "|(195,[3,8,15,27,3...|  0.0|       0.0|[0.51256283272331...|\n",
            "|(195,[5,7,14,25,3...|  0.0|       0.0|[0.63193620813397...|\n",
            "|(195,[5,7,16,23,3...|  0.0|       0.0|[0.72920756912731...|\n",
            "|(195,[2,7,15,27,3...|  0.0|       0.0|[0.72672167479979...|\n",
            "|(195,[5,8,15,23,3...|  0.0|       1.0|[0.45005047288854...|\n",
            "|(195,[6,7,14,23,3...|  0.0|       0.0|[0.78802409641955...|\n",
            "+--------------------+-----+----------+--------------------+\n",
            "\n"
          ]
        }
      ],
      "source": [
        "# Predict using sample data and Best Random Forest Model developed with cross validation\n",
        "rfSamplePredictions = bestRfModel.transform(sample_Data)\n",
        "rfSamplePredictions.select('features','label','prediction','probability').show()"
      ]
    },
    {
      "cell_type": "code",
      "execution_count": null,
      "metadata": {
        "id": "mHPrWXrgRdTP",
        "outputId": "75ba09c2-3db0-4768-bc6b-0b83bb0d0c45"
      },
      "outputs": [
        {
          "name": "stdout",
          "output_type": "stream",
          "text": [
            "-RECORD 0-----------------------------------------\n",
            " dayOfWeekDesc             | Wednesday            \n",
            " lightConditionDesc        | Day                  \n",
            " roadGeometryDesc          | Cross intersection   \n",
            " speedZoneDesc             | 50 km/h              \n",
            " dust                      | 0                    \n",
            " fog                       | 0                    \n",
            " raining                   | 0                    \n",
            " smoke                     | 0                    \n",
            " snowing                   | 0                    \n",
            " strongWinds               | 0                    \n",
            " icy                       | 0                    \n",
            " muddy                     | 0                    \n",
            " snowy                     | 0                    \n",
            " wet                       | 0                    \n",
            " dry                       | 1                    \n",
            " clear                     | 1                    \n",
            " vehicleYearManuf          | 2012                 \n",
            " roadSurfaceTypeDesc       | Paved                \n",
            " vehicleTypeDesc           | Station Wagon        \n",
            " trafficControlDesc        | Giveway sign         \n",
            " driverSex                 | F                    \n",
            " driverAgeGroup            | 26-29                \n",
            " LGAName                   | CENTRAL GOLDFIELDS   \n",
            " severeAccident            | 0                    \n",
            " trafficControlDesc_index  | 2.0                  \n",
            " lightConditionDesc_index  | 0.0                  \n",
            " driverSex_index           | 1.0                  \n",
            " roadGeometryDesc_index    | 1.0                  \n",
            " label                     | 0.0                  \n",
            " dayOfWeekDesc_index       | 2.0                  \n",
            " LGAName_index             | 69.0                 \n",
            " vehicleTypeDesc_index     | 1.0                  \n",
            " driverAgeGroup_index      | 5.0                  \n",
            " speedZoneDesc_index       | 3.0                  \n",
            " roadSurfaceTypeDesc_index | 0.0                  \n",
            " driverAgeGroup_vec        | (13,[5],[1.0])       \n",
            " roadGeometryDesc_vec      | (9,[1],[1.0])        \n",
            " LGAName_vec               | (88,[69],[1.0])      \n",
            " vehicleTypeDesc_vec       | (21,[1],[1.0])       \n",
            " speedZoneDesc_vec         | (13,[3],[1.0])       \n",
            " dayOfWeekDesc_vec         | (7,[2],[1.0])        \n",
            " trafficControlDesc_vec    | (17,[2],[1.0])       \n",
            " roadSurfaceTypeDesc_vec   | (4,[0],[1.0])        \n",
            " driverSex_vec             | (3,[1],[1.0])        \n",
            " lightConditionDesc_vec    | (7,[0],[1.0])        \n",
            " features                  | (195,[2,7,15,26,3... \n",
            " rawPrediction             | [21.7972163196968... \n",
            " probability               | [0.72657387732322... \n",
            " prediction                | 0.0                  \n",
            "-RECORD 1-----------------------------------------\n",
            " dayOfWeekDesc             | Saturday             \n",
            " lightConditionDesc        | Day                  \n",
            " roadGeometryDesc          | Cross intersection   \n",
            " speedZoneDesc             | 50 km/h              \n",
            " dust                      | 0                    \n",
            " fog                       | 0                    \n",
            " raining                   | 0                    \n",
            " smoke                     | 0                    \n",
            " snowing                   | 0                    \n",
            " strongWinds               | 0                    \n",
            " icy                       | 0                    \n",
            " muddy                     | 0                    \n",
            " snowy                     | 0                    \n",
            " wet                       | 0                    \n",
            " dry                       | 1                    \n",
            " clear                     | 1                    \n",
            " vehicleYearManuf          | 2008                 \n",
            " roadSurfaceTypeDesc       | Paved                \n",
            " vehicleTypeDesc           | Car                  \n",
            " trafficControlDesc        | Stop-go lights       \n",
            " driverSex                 | M                    \n",
            " driverAgeGroup            | 17-21                \n",
            " LGAName                   | COLAC OTWAY          \n",
            " severeAccident            | 0                    \n",
            " trafficControlDesc_index  | 1.0                  \n",
            " lightConditionDesc_index  | 0.0                  \n",
            " driverSex_index           | 0.0                  \n",
            " roadGeometryDesc_index    | 1.0                  \n",
            " label                     | 0.0                  \n",
            " dayOfWeekDesc_index       | 4.0                  \n",
            " LGAName_index             | 48.0                 \n",
            " vehicleTypeDesc_index     | 0.0                  \n",
            " driverAgeGroup_index      | 3.0                  \n",
            " speedZoneDesc_index       | 3.0                  \n",
            " roadSurfaceTypeDesc_index | 0.0                  \n",
            " driverAgeGroup_vec        | (13,[3],[1.0])       \n",
            " roadGeometryDesc_vec      | (9,[1],[1.0])        \n",
            " LGAName_vec               | (88,[48],[1.0])      \n",
            " vehicleTypeDesc_vec       | (21,[0],[1.0])       \n",
            " speedZoneDesc_vec         | (13,[3],[1.0])       \n",
            " dayOfWeekDesc_vec         | (7,[4],[1.0])        \n",
            " trafficControlDesc_vec    | (17,[1],[1.0])       \n",
            " roadSurfaceTypeDesc_vec   | (4,[0],[1.0])        \n",
            " driverSex_vec             | (3,[0],[1.0])        \n",
            " lightConditionDesc_vec    | (7,[0],[1.0])        \n",
            " features                  | (195,[4,7,15,26,3... \n",
            " rawPrediction             | [22.4338819471810... \n",
            " probability               | [0.74779606490603... \n",
            " prediction                | 0.0                  \n",
            "-RECORD 2-----------------------------------------\n",
            " dayOfWeekDesc             | Tuesday              \n",
            " lightConditionDesc        | Day                  \n",
            " roadGeometryDesc          | Not at intersection  \n",
            " speedZoneDesc             | 100 km/h             \n",
            " dust                      | 0                    \n",
            " fog                       | 0                    \n",
            " raining                   | 0                    \n",
            " smoke                     | 0                    \n",
            " snowing                   | 0                    \n",
            " strongWinds               | 0                    \n",
            " icy                       | 0                    \n",
            " muddy                     | 0                    \n",
            " snowy                     | 0                    \n",
            " wet                       | 0                    \n",
            " dry                       | 1                    \n",
            " clear                     | 1                    \n",
            " vehicleYearManuf          | 1994                 \n",
            " roadSurfaceTypeDesc       | Paved                \n",
            " vehicleTypeDesc           | Car                  \n",
            " trafficControlDesc        | No control           \n",
            " driverSex                 | F                    \n",
            " driverAgeGroup            | 16-17                \n",
            " LGAName                   | HORSHAM              \n",
            " severeAccident            | 0                    \n",
            " trafficControlDesc_index  | 0.0                  \n",
            " lightConditionDesc_index  | 0.0                  \n",
            " driverSex_index           | 1.0                  \n",
            " roadGeometryDesc_index    | 0.0                  \n",
            " label                     | 0.0                  \n",
            " dayOfWeekDesc_index       | 3.0                  \n",
            " LGAName_index             | 55.0                 \n",
            " vehicleTypeDesc_index     | 0.0                  \n",
            " driverAgeGroup_index      | 9.0                  \n",
            " speedZoneDesc_index       | 1.0                  \n",
            " roadSurfaceTypeDesc_index | 0.0                  \n",
            " driverAgeGroup_vec        | (13,[9],[1.0])       \n",
            " roadGeometryDesc_vec      | (9,[0],[1.0])        \n",
            " LGAName_vec               | (88,[55],[1.0])      \n",
            " vehicleTypeDesc_vec       | (21,[0],[1.0])       \n",
            " speedZoneDesc_vec         | (13,[1],[1.0])       \n",
            " dayOfWeekDesc_vec         | (7,[3],[1.0])        \n",
            " trafficControlDesc_vec    | (17,[0],[1.0])       \n",
            " roadSurfaceTypeDesc_vec   | (4,[0],[1.0])        \n",
            " driverSex_vec             | (3,[1],[1.0])        \n",
            " lightConditionDesc_vec    | (7,[0],[1.0])        \n",
            " features                  | (195,[3,7,14,24,3... \n",
            " rawPrediction             | [8.78040228026463... \n",
            " probability               | [0.29268007600882... \n",
            " prediction                | 1.0                  \n",
            "-RECORD 3-----------------------------------------\n",
            " dayOfWeekDesc             | Tuesday              \n",
            " lightConditionDesc        | Day                  \n",
            " roadGeometryDesc          | Not at intersection  \n",
            " speedZoneDesc             | 50 km/h              \n",
            " dust                      | 0                    \n",
            " fog                       | 0                    \n",
            " raining                   | 0                    \n",
            " smoke                     | 0                    \n",
            " snowing                   | 0                    \n",
            " strongWinds               | 0                    \n",
            " icy                       | 0                    \n",
            " muddy                     | 0                    \n",
            " snowy                     | 0                    \n",
            " wet                       | 0                    \n",
            " dry                       | 1                    \n",
            " clear                     | 1                    \n",
            " vehicleYearManuf          | 2009                 \n",
            " roadSurfaceTypeDesc       | Paved                \n",
            " vehicleTypeDesc           | Utility              \n",
            " trafficControlDesc        | No control           \n",
            " driverSex                 | M                    \n",
            " driverAgeGroup            | 30-39                \n",
            " LGAName                   | MELBOURNE            \n",
            " severeAccident            | 0                    \n",
            " trafficControlDesc_index  | 0.0                  \n",
            " lightConditionDesc_index  | 0.0                  \n",
            " driverSex_index           | 0.0                  \n",
            " roadGeometryDesc_index    | 0.0                  \n",
            " label                     | 0.0                  \n",
            " dayOfWeekDesc_index       | 3.0                  \n",
            " LGAName_index             | 0.0                  \n",
            " vehicleTypeDesc_index     | 2.0                  \n",
            " driverAgeGroup_index      | 0.0                  \n",
            " speedZoneDesc_index       | 3.0                  \n",
            " roadSurfaceTypeDesc_index | 0.0                  \n",
            " driverAgeGroup_vec        | (13,[0],[1.0])       \n",
            " roadGeometryDesc_vec      | (9,[0],[1.0])        \n",
            " LGAName_vec               | (88,[0],[1.0])       \n",
            " vehicleTypeDesc_vec       | (21,[2],[1.0])       \n",
            " speedZoneDesc_vec         | (13,[3],[1.0])       \n",
            " dayOfWeekDesc_vec         | (7,[3],[1.0])        \n",
            " trafficControlDesc_vec    | (17,[0],[1.0])       \n",
            " roadSurfaceTypeDesc_vec   | (4,[0],[1.0])        \n",
            " driverSex_vec             | (3,[0],[1.0])        \n",
            " lightConditionDesc_vec    | (7,[0],[1.0])        \n",
            " features                  | (195,[3,7,14,26,3... \n",
            " rawPrediction             | [22.2881172645993... \n",
            " probability               | [0.74293724215331... \n",
            " prediction                | 0.0                  \n",
            "-RECORD 4-----------------------------------------\n",
            " dayOfWeekDesc             | Thursday             \n",
            " lightConditionDesc        | Dark No street li... \n",
            " roadGeometryDesc          | Not at intersection  \n",
            " speedZoneDesc             | 50 km/h              \n",
            " dust                      | 0                    \n",
            " fog                       | 0                    \n",
            " raining                   | 0                    \n",
            " smoke                     | 0                    \n",
            " snowing                   | 0                    \n",
            " strongWinds               | 0                    \n",
            " icy                       | 0                    \n",
            " muddy                     | 0                    \n",
            " snowy                     | 0                    \n",
            " wet                       | 0                    \n",
            " dry                       | 1                    \n",
            " clear                     | 1                    \n",
            " vehicleYearManuf          | 2009                 \n",
            " roadSurfaceTypeDesc       | Paved                \n",
            " vehicleTypeDesc           | Utility              \n",
            " trafficControlDesc        | No control           \n",
            " driverSex                 | F                    \n",
            " driverAgeGroup            | 17-21                \n",
            " LGAName                   | CAMPASPE             \n",
            " severeAccident            | 1                    \n",
            " trafficControlDesc_index  | 0.0                  \n",
            " lightConditionDesc_index  | 3.0                  \n",
            " driverSex_index           | 1.0                  \n",
            " roadGeometryDesc_index    | 0.0                  \n",
            " label                     | 1.0                  \n",
            " dayOfWeekDesc_index       | 1.0                  \n",
            " LGAName_index             | 43.0                 \n",
            " vehicleTypeDesc_index     | 2.0                  \n",
            " driverAgeGroup_index      | 3.0                  \n",
            " speedZoneDesc_index       | 3.0                  \n",
            " roadSurfaceTypeDesc_index | 0.0                  \n",
            " driverAgeGroup_vec        | (13,[3],[1.0])       \n",
            " roadGeometryDesc_vec      | (9,[0],[1.0])        \n",
            " LGAName_vec               | (88,[43],[1.0])      \n",
            " vehicleTypeDesc_vec       | (21,[2],[1.0])       \n",
            " speedZoneDesc_vec         | (13,[3],[1.0])       \n",
            " dayOfWeekDesc_vec         | (7,[1],[1.0])        \n",
            " trafficControlDesc_vec    | (17,[0],[1.0])       \n",
            " roadSurfaceTypeDesc_vec   | (4,[0],[1.0])        \n",
            " driverSex_vec             | (3,[1],[1.0])        \n",
            " lightConditionDesc_vec    | (7,[3],[1.0])        \n",
            " features                  | (195,[1,10,14,26,... \n",
            " rawPrediction             | [10.8984431557915... \n",
            " probability               | [0.36328143852638... \n",
            " prediction                | 1.0                  \n",
            "-RECORD 5-----------------------------------------\n",
            " dayOfWeekDesc             | Tuesday              \n",
            " lightConditionDesc        | Dark Street light... \n",
            " roadGeometryDesc          | Cross intersection   \n",
            " speedZoneDesc             | 70 km/h              \n",
            " dust                      | 0                    \n",
            " fog                       | 0                    \n",
            " raining                   | 1                    \n",
            " smoke                     | 0                    \n",
            " snowing                   | 0                    \n",
            " strongWinds               | 0                    \n",
            " icy                       | 0                    \n",
            " muddy                     | 0                    \n",
            " snowy                     | 0                    \n",
            " wet                       | 1                    \n",
            " dry                       | 0                    \n",
            " clear                     | 0                    \n",
            " vehicleYearManuf          | 1995                 \n",
            " roadSurfaceTypeDesc       | Paved                \n",
            " vehicleTypeDesc           | Car                  \n",
            " trafficControlDesc        | Stop-go lights       \n",
            " driverSex                 | F                    \n",
            " driverAgeGroup            | 17-21                \n",
            " LGAName                   | WHITEHORSE           \n",
            " severeAccident            | 0                    \n",
            " trafficControlDesc_index  | 1.0                  \n",
            " lightConditionDesc_index  | 1.0                  \n",
            " driverSex_index           | 1.0                  \n",
            " roadGeometryDesc_index    | 1.0                  \n",
            " label                     | 0.0                  \n",
            " dayOfWeekDesc_index       | 3.0                  \n",
            " LGAName_index             | 8.0                  \n",
            " vehicleTypeDesc_index     | 0.0                  \n",
            " driverAgeGroup_index      | 3.0                  \n",
            " speedZoneDesc_index       | 4.0                  \n",
            " roadSurfaceTypeDesc_index | 0.0                  \n",
            " driverAgeGroup_vec        | (13,[3],[1.0])       \n",
            " roadGeometryDesc_vec      | (9,[1],[1.0])        \n",
            " LGAName_vec               | (88,[8],[1.0])       \n",
            " vehicleTypeDesc_vec       | (21,[0],[1.0])       \n",
            " speedZoneDesc_vec         | (13,[4],[1.0])       \n",
            " dayOfWeekDesc_vec         | (7,[3],[1.0])        \n",
            " trafficControlDesc_vec    | (17,[1],[1.0])       \n",
            " roadSurfaceTypeDesc_vec   | (4,[0],[1.0])        \n",
            " driverSex_vec             | (3,[1],[1.0])        \n",
            " lightConditionDesc_vec    | (7,[1],[1.0])        \n",
            " features                  | (195,[3,8,15,27,3... \n",
            " rawPrediction             | [15.3768849816993... \n",
            " probability               | [0.51256283272331... \n",
            " prediction                | 0.0                  \n",
            "-RECORD 6-----------------------------------------\n",
            " dayOfWeekDesc             | Monday               \n",
            " lightConditionDesc        | Day                  \n",
            " roadGeometryDesc          | Not at intersection  \n",
            " speedZoneDesc             | 80 km/h              \n",
            " dust                      | 0                    \n",
            " fog                       | 0                    \n",
            " raining                   | 1                    \n",
            " smoke                     | 0                    \n",
            " snowing                   | 0                    \n",
            " strongWinds               | 0                    \n",
            " icy                       | 0                    \n",
            " muddy                     | 0                    \n",
            " snowy                     | 0                    \n",
            " wet                       | 1                    \n",
            " dry                       | 0                    \n",
            " clear                     | 0                    \n",
            " vehicleYearManuf          | 2010                 \n",
            " roadSurfaceTypeDesc       | Paved                \n",
            " vehicleTypeDesc           | Car                  \n",
            " trafficControlDesc        | Giveway sign         \n",
            " driverSex                 | M                    \n",
            " driverAgeGroup            | 30-39                \n",
            " LGAName                   | CASEY                \n",
            " severeAccident            | 0                    \n",
            " trafficControlDesc_index  | 2.0                  \n",
            " lightConditionDesc_index  | 0.0                  \n",
            " driverSex_index           | 0.0                  \n",
            " roadGeometryDesc_index    | 0.0                  \n",
            " label                     | 0.0                  \n",
            " dayOfWeekDesc_index       | 5.0                  \n",
            " LGAName_index             | 1.0                  \n",
            " vehicleTypeDesc_index     | 0.0                  \n",
            " driverAgeGroup_index      | 0.0                  \n",
            " speedZoneDesc_index       | 2.0                  \n",
            " roadSurfaceTypeDesc_index | 0.0                  \n",
            " driverAgeGroup_vec        | (13,[0],[1.0])       \n",
            " roadGeometryDesc_vec      | (9,[0],[1.0])        \n",
            " LGAName_vec               | (88,[1],[1.0])       \n",
            " vehicleTypeDesc_vec       | (21,[0],[1.0])       \n",
            " speedZoneDesc_vec         | (13,[2],[1.0])       \n",
            " dayOfWeekDesc_vec         | (7,[5],[1.0])        \n",
            " trafficControlDesc_vec    | (17,[2],[1.0])       \n",
            " roadSurfaceTypeDesc_vec   | (4,[0],[1.0])        \n",
            " driverSex_vec             | (3,[0],[1.0])        \n",
            " lightConditionDesc_vec    | (7,[0],[1.0])        \n",
            " features                  | (195,[5,7,14,25,3... \n",
            " rawPrediction             | [18.9580862440191... \n",
            " probability               | [0.63193620813397... \n",
            " prediction                | 0.0                  \n",
            "-RECORD 7-----------------------------------------\n",
            " dayOfWeekDesc             | Monday               \n",
            " lightConditionDesc        | Day                  \n",
            " roadGeometryDesc          | T intersection       \n",
            " speedZoneDesc             | 60 km/h              \n",
            " dust                      | 0                    \n",
            " fog                       | 0                    \n",
            " raining                   | 0                    \n",
            " smoke                     | 0                    \n",
            " snowing                   | 0                    \n",
            " strongWinds               | 0                    \n",
            " icy                       | 0                    \n",
            " muddy                     | 0                    \n",
            " snowy                     | 0                    \n",
            " wet                       | 0                    \n",
            " dry                       | 1                    \n",
            " clear                     | 1                    \n",
            " vehicleYearManuf          | 1998                 \n",
            " roadSurfaceTypeDesc       | Paved                \n",
            " vehicleTypeDesc           | Station Wagon        \n",
            " trafficControlDesc        | Giveway sign         \n",
            " driverSex                 | M                    \n",
            " driverAgeGroup            | 40-49                \n",
            " LGAName                   | YARRA                \n",
            " severeAccident            | 0                    \n",
            " trafficControlDesc_index  | 2.0                  \n",
            " lightConditionDesc_index  | 0.0                  \n",
            " driverSex_index           | 0.0                  \n",
            " roadGeometryDesc_index    | 2.0                  \n",
            " label                     | 0.0                  \n",
            " dayOfWeekDesc_index       | 5.0                  \n",
            " LGAName_index             | 21.0                 \n",
            " vehicleTypeDesc_index     | 1.0                  \n",
            " driverAgeGroup_index      | 1.0                  \n",
            " speedZoneDesc_index       | 0.0                  \n",
            " roadSurfaceTypeDesc_index | 0.0                  \n",
            " driverAgeGroup_vec        | (13,[1],[1.0])       \n",
            " roadGeometryDesc_vec      | (9,[2],[1.0])        \n",
            " LGAName_vec               | (88,[21],[1.0])      \n",
            " vehicleTypeDesc_vec       | (21,[1],[1.0])       \n",
            " speedZoneDesc_vec         | (13,[0],[1.0])       \n",
            " dayOfWeekDesc_vec         | (7,[5],[1.0])        \n",
            " trafficControlDesc_vec    | (17,[2],[1.0])       \n",
            " roadSurfaceTypeDesc_vec   | (4,[0],[1.0])        \n",
            " driverSex_vec             | (3,[0],[1.0])        \n",
            " lightConditionDesc_vec    | (7,[0],[1.0])        \n",
            " features                  | (195,[5,7,16,23,3... \n",
            " rawPrediction             | [21.8762270738194... \n",
            " probability               | [0.72920756912731... \n",
            " prediction                | 0.0                  \n",
            "-RECORD 8-----------------------------------------\n",
            " dayOfWeekDesc             | Wednesday            \n",
            " lightConditionDesc        | Day                  \n",
            " roadGeometryDesc          | Cross intersection   \n",
            " speedZoneDesc             | 70 km/h              \n",
            " dust                      | 0                    \n",
            " fog                       | 0                    \n",
            " raining                   | 0                    \n",
            " smoke                     | 0                    \n",
            " snowing                   | 0                    \n",
            " strongWinds               | 0                    \n",
            " icy                       | 0                    \n",
            " muddy                     | 0                    \n",
            " snowy                     | 0                    \n",
            " wet                       | 0                    \n",
            " dry                       | 1                    \n",
            " clear                     | 1                    \n",
            " vehicleYearManuf          | 2014                 \n",
            " roadSurfaceTypeDesc       | Paved                \n",
            " vehicleTypeDesc           | Utility              \n",
            " trafficControlDesc        | Stop-go lights       \n",
            " driverSex                 | M                    \n",
            " driverAgeGroup            | 40-49                \n",
            " LGAName                   | HUME                 \n",
            " severeAccident            | 0                    \n",
            " trafficControlDesc_index  | 1.0                  \n",
            " lightConditionDesc_index  | 0.0                  \n",
            " driverSex_index           | 0.0                  \n",
            " roadGeometryDesc_index    | 1.0                  \n",
            " label                     | 0.0                  \n",
            " dayOfWeekDesc_index       | 2.0                  \n",
            " LGAName_index             | 6.0                  \n",
            " vehicleTypeDesc_index     | 2.0                  \n",
            " driverAgeGroup_index      | 1.0                  \n",
            " speedZoneDesc_index       | 4.0                  \n",
            " roadSurfaceTypeDesc_index | 0.0                  \n",
            " driverAgeGroup_vec        | (13,[1],[1.0])       \n",
            " roadGeometryDesc_vec      | (9,[1],[1.0])        \n",
            " LGAName_vec               | (88,[6],[1.0])       \n",
            " vehicleTypeDesc_vec       | (21,[2],[1.0])       \n",
            " speedZoneDesc_vec         | (13,[4],[1.0])       \n",
            " dayOfWeekDesc_vec         | (7,[2],[1.0])        \n",
            " trafficControlDesc_vec    | (17,[1],[1.0])       \n",
            " roadSurfaceTypeDesc_vec   | (4,[0],[1.0])        \n",
            " driverSex_vec             | (3,[0],[1.0])        \n",
            " lightConditionDesc_vec    | (7,[0],[1.0])        \n",
            " features                  | (195,[2,7,15,27,3... \n",
            " rawPrediction             | [21.8016502439937... \n",
            " probability               | [0.72672167479979... \n",
            " prediction                | 0.0                  \n",
            "-RECORD 9-----------------------------------------\n",
            " dayOfWeekDesc             | Monday               \n",
            " lightConditionDesc        | Dark Street light... \n",
            " roadGeometryDesc          | Cross intersection   \n",
            " speedZoneDesc             | 60 km/h              \n",
            " dust                      | 0                    \n",
            " fog                       | 0                    \n",
            " raining                   | 0                    \n",
            " smoke                     | 0                    \n",
            " snowing                   | 0                    \n",
            " strongWinds               | 0                    \n",
            " icy                       | 0                    \n",
            " muddy                     | 0                    \n",
            " snowy                     | 0                    \n",
            " wet                       | 0                    \n",
            " dry                       | 1                    \n",
            " clear                     | 1                    \n",
            " vehicleYearManuf          | 2002                 \n",
            " roadSurfaceTypeDesc       | Paved                \n",
            " vehicleTypeDesc           | Car                  \n",
            " trafficControlDesc        | Stop-go lights       \n",
            " driverSex                 | F                    \n",
            " driverAgeGroup            | 22-25                \n",
            " LGAName                   | WYNDHAM              \n",
            " severeAccident            | 0                    \n",
            " trafficControlDesc_index  | 1.0                  \n",
            " lightConditionDesc_index  | 1.0                  \n",
            " driverSex_index           | 1.0                  \n",
            " roadGeometryDesc_index    | 1.0                  \n",
            " label                     | 0.0                  \n",
            " dayOfWeekDesc_index       | 5.0                  \n",
            " LGAName_index             | 14.0                 \n",
            " vehicleTypeDesc_index     | 0.0                  \n",
            " driverAgeGroup_index      | 4.0                  \n",
            " speedZoneDesc_index       | 0.0                  \n",
            " roadSurfaceTypeDesc_index | 0.0                  \n",
            " driverAgeGroup_vec        | (13,[4],[1.0])       \n",
            " roadGeometryDesc_vec      | (9,[1],[1.0])        \n",
            " LGAName_vec               | (88,[14],[1.0])      \n",
            " vehicleTypeDesc_vec       | (21,[0],[1.0])       \n",
            " speedZoneDesc_vec         | (13,[0],[1.0])       \n",
            " dayOfWeekDesc_vec         | (7,[5],[1.0])        \n",
            " trafficControlDesc_vec    | (17,[1],[1.0])       \n",
            " roadSurfaceTypeDesc_vec   | (4,[0],[1.0])        \n",
            " driverSex_vec             | (3,[1],[1.0])        \n",
            " lightConditionDesc_vec    | (7,[1],[1.0])        \n",
            " features                  | (195,[5,8,15,23,3... \n",
            " rawPrediction             | [13.5015141866564... \n",
            " probability               | [0.45005047288854... \n",
            " prediction                | 1.0                  \n",
            "-RECORD 10----------------------------------------\n",
            " dayOfWeekDesc             | Sunday               \n",
            " lightConditionDesc        | Day                  \n",
            " roadGeometryDesc          | Not at intersection  \n",
            " speedZoneDesc             | 60 km/h              \n",
            " dust                      | 0                    \n",
            " fog                       | 0                    \n",
            " raining                   | 0                    \n",
            " smoke                     | 0                    \n",
            " snowing                   | 0                    \n",
            " strongWinds               | 0                    \n",
            " icy                       | 0                    \n",
            " muddy                     | 0                    \n",
            " snowy                     | 0                    \n",
            " wet                       | 0                    \n",
            " dry                       | 1                    \n",
            " clear                     | 1                    \n",
            " vehicleYearManuf          | 2008                 \n",
            " roadSurfaceTypeDesc       | Paved                \n",
            " vehicleTypeDesc           | Station Wagon        \n",
            " trafficControlDesc        | Stop-go lights       \n",
            " driverSex                 | M                    \n",
            " driverAgeGroup            | 40-49                \n",
            " LGAName                   | YARRA                \n",
            " severeAccident            | 0                    \n",
            " trafficControlDesc_index  | 1.0                  \n",
            " lightConditionDesc_index  | 0.0                  \n",
            " driverSex_index           | 0.0                  \n",
            " roadGeometryDesc_index    | 0.0                  \n",
            " label                     | 0.0                  \n",
            " dayOfWeekDesc_index       | 6.0                  \n",
            " LGAName_index             | 21.0                 \n",
            " vehicleTypeDesc_index     | 1.0                  \n",
            " driverAgeGroup_index      | 1.0                  \n",
            " speedZoneDesc_index       | 0.0                  \n",
            " roadSurfaceTypeDesc_index | 0.0                  \n",
            " driverAgeGroup_vec        | (13,[1],[1.0])       \n",
            " roadGeometryDesc_vec      | (9,[0],[1.0])        \n",
            " LGAName_vec               | (88,[21],[1.0])      \n",
            " vehicleTypeDesc_vec       | (21,[1],[1.0])       \n",
            " speedZoneDesc_vec         | (13,[0],[1.0])       \n",
            " dayOfWeekDesc_vec         | (7,[6],[1.0])        \n",
            " trafficControlDesc_vec    | (17,[1],[1.0])       \n",
            " roadSurfaceTypeDesc_vec   | (4,[0],[1.0])        \n",
            " driverSex_vec             | (3,[0],[1.0])        \n",
            " lightConditionDesc_vec    | (7,[0],[1.0])        \n",
            " features                  | (195,[6,7,14,23,3... \n",
            " rawPrediction             | [23.6407228925867... \n",
            " probability               | [0.78802409641955... \n",
            " prediction                | 0.0                  \n",
            "\n"
          ]
        }
      ],
      "source": [
        "# Display Prediction results\n",
        "rfSamplePredictions.show(vertical =True)"
      ]
    }
  ],
  "metadata": {
    "kernelspec": {
      "display_name": "Python 3",
      "language": "python",
      "name": "python3"
    },
    "language_info": {
      "codemirror_mode": {
        "name": "ipython",
        "version": 3
      },
      "file_extension": ".py",
      "mimetype": "text/x-python",
      "name": "python",
      "nbconvert_exporter": "python",
      "pygments_lexer": "ipython3",
      "version": "3.8.2"
    },
    "colab": {
      "provenance": [],
      "include_colab_link": true
    }
  },
  "nbformat": 4,
  "nbformat_minor": 0
}